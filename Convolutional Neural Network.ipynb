{
  "nbformat": 4,
  "nbformat_minor": 0,
  "metadata": {
    "kernelspec": {
      "display_name": "Python 3",
      "language": "python",
      "name": "python3"
    },
    "language_info": {
      "codemirror_mode": {
        "name": "ipython",
        "version": 3
      },
      "file_extension": ".py",
      "mimetype": "text/x-python",
      "name": "python",
      "nbconvert_exporter": "python",
      "pygments_lexer": "ipython3",
      "version": "3.7.3"
    },
    "colab": {
      "name": "Convolutional Neural Network.ipynb",
      "version": "0.3.2",
      "provenance": [],
      "include_colab_link": true
    }
  },
  "cells": [
    {
      "cell_type": "markdown",
      "metadata": {
        "id": "view-in-github",
        "colab_type": "text"
      },
      "source": [
        "<a href=\"https://colab.research.google.com/github/shebogholo/pytorch/blob/master/Convolutional%20Neural%20Network.ipynb\" target=\"_parent\"><img src=\"https://colab.research.google.com/assets/colab-badge.svg\" alt=\"Open In Colab\"/></a>"
      ]
    },
    {
      "cell_type": "markdown",
      "metadata": {
        "id": "FpVogmZKarFp",
        "colab_type": "text"
      },
      "source": [
        "<img src='https://github.com/shebogholo/pytorch/blob/master/images/cnn.png?raw=1' />"
      ]
    },
    {
      "cell_type": "markdown",
      "metadata": {
        "id": "K93jQPp_a74R",
        "colab_type": "text"
      },
      "source": [
        "## Import libraries"
      ]
    },
    {
      "cell_type": "code",
      "metadata": {
        "id": "fybnrUCDa_s9",
        "colab_type": "code",
        "colab": {}
      },
      "source": [
        "import torch\n",
        "import numpy as np\n",
        "import torchvision\n",
        "import torch.nn as nn\n",
        "import torch.optim as optim\n",
        "import matplotlib.pyplot as plt\n",
        "import torchvision.datasets as dataset\n",
        "from torch.utils.data import DataLoader\n",
        "import torchvision.transforms as transform"
      ],
      "execution_count": 0,
      "outputs": []
    },
    {
      "cell_type": "code",
      "metadata": {
        "id": "s82lVwCKeUyG",
        "colab_type": "code",
        "colab": {}
      },
      "source": [
        "seed = 123\n",
        "torch.manual_seed(seed)\n",
        "np.random.seed(seed)"
      ],
      "execution_count": 0,
      "outputs": []
    },
    {
      "cell_type": "markdown",
      "metadata": {
        "id": "X_GMHSV3bqi1",
        "colab_type": "text"
      },
      "source": [
        "## Load dataset"
      ]
    },
    {
      "cell_type": "code",
      "metadata": {
        "id": "sI81kPDxbsVt",
        "colab_type": "code",
        "colab": {}
      },
      "source": [
        "train_dataset = dataset.MNIST(root='data', train=True, transform=transform.ToTensor(), download=True)\n",
        "test_dataset  = dataset.MNIST(root='data', train=False, transform=transform.ToTensor())"
      ],
      "execution_count": 0,
      "outputs": []
    },
    {
      "cell_type": "code",
      "metadata": {
        "id": "r8UceHGObw8L",
        "colab_type": "code",
        "colab": {
          "base_uri": "https://localhost:8080/",
          "height": 54
        },
        "outputId": "78f71af7-1e6b-4ef0-df7d-6f39ec5e1442"
      },
      "source": [
        "print('Train data: ',len(train_dataset))\n",
        "print('Test  data: ',len(test_dataset))"
      ],
      "execution_count": 4,
      "outputs": [
        {
          "output_type": "stream",
          "text": [
            "Train data:  60000\n",
            "Test  data:  10000\n"
          ],
          "name": "stdout"
        }
      ]
    },
    {
      "cell_type": "markdown",
      "metadata": {
        "id": "bGMBqIq6cFyb",
        "colab_type": "text"
      },
      "source": [
        "## Make dataset iterable"
      ]
    },
    {
      "cell_type": "markdown",
      "metadata": {
        "id": "0tyLY5nRcHCo",
        "colab_type": "text"
      },
      "source": [
        "#### We need to split these 60000 training samples (images) into small groups(batches) and pass these batches into our model. \n",
        "Why do we have to split the data:-\n",
        "- Passing the whole dataset requires a lot of RAM of your CPU/GPU. (Out-Of-Memory)\n",
        "- Passing the whole dataset cause unstable training as a result of accumulating all the error and update model parameters once rather than updating gradually.\n",
        "\n",
        "## Epoch\n",
        "Hyperparameter that define the number of times the learning algorithm will work through the entire dataset.\n",
        "One Epoch is when the entire dataset is passed forward and backward only once.\n",
        "\n",
        "### Batch size\n",
        "The number of examples present in a single batch, i.e examples to work through before updating internal model parameters.\n",
        "\n",
        "### Iterations\n",
        "It defines the number of batches needed to complete one epoch."
      ]
    },
    {
      "cell_type": "code",
      "metadata": {
        "id": "Aofh-VV7cGXl",
        "colab_type": "code",
        "colab": {}
      },
      "source": [
        "batch_size = 64\n",
        "num_epochs = 10\n",
        "train_loader = DataLoader(dataset=train_dataset, batch_size=batch_size, shuffle=True)\n",
        "test_loader  = DataLoader(dataset=test_dataset, batch_size=batch_size, shuffle=False)"
      ],
      "execution_count": 0,
      "outputs": []
    },
    {
      "cell_type": "code",
      "metadata": {
        "id": "iOXYBQW4cPJf",
        "colab_type": "code",
        "colab": {}
      },
      "source": [
        "# function to show an image\n",
        "def show_image(image):\n",
        "  image = image.numpy()\n",
        "  plt.imshow(np.transpose(image, (1, 2, 0)))"
      ],
      "execution_count": 0,
      "outputs": []
    },
    {
      "cell_type": "code",
      "metadata": {
        "id": "PvWu5D8TcTXa",
        "colab_type": "code",
        "colab": {
          "base_uri": "https://localhost:8080/",
          "height": 269
        },
        "outputId": "ad999fb1-689f-41be-fa51-24f823d17a77"
      },
      "source": [
        "# get random training images\n",
        "images, labels = iter(train_loader).next()\n",
        "show_image(torchvision.utils.make_grid(images))"
      ],
      "execution_count": 7,
      "outputs": [
        {
          "output_type": "display_data",
          "data": {
            "image/png": "[encoded data removed]",
            "text/plain": [
              "<Figure size 432x288 with 1 Axes>"
            ]
          },
          "metadata": {
            "tags": []
          }
        }
      ]
    },
    {
      "cell_type": "markdown",
      "metadata": {
        "id": "L_6uL2T-cYq6",
        "colab_type": "text"
      },
      "source": [
        "## Define a model"
      ]
    },
    {
      "cell_type": "code",
      "metadata": {
        "id": "nL81UcGGcVfR",
        "colab_type": "code",
        "colab": {}
      },
      "source": [
        ""
      ],
      "execution_count": 0,
      "outputs": []
    }
  ]
}