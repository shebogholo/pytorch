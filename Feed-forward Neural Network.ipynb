{
  "nbformat": 4,
  "nbformat_minor": 0,
  "metadata": {
    "colab": {
      "name": "Feed-forward Neural Network.ipynb",
      "version": "0.3.2",
      "provenance": [],
      "include_colab_link": true
    },
    "kernelspec": {
      "name": "python3",
      "display_name": "Python 3"
    },
    "accelerator": "GPU"
  },
  "cells": [
    {
      "cell_type": "markdown",
      "metadata": {
        "id": "view-in-github",
        "colab_type": "text"
      },
      "source": [
        "<a href=\"https://colab.research.google.com/github/shebogholo/pytorch/blob/master/Feed-forward%20Neural%20Network.ipynb\" target=\"_parent\"><img src=\"https://colab.research.google.com/assets/colab-badge.svg\" alt=\"Open In Colab\"/></a>"
      ]
    },
    {
      "cell_type": "markdown",
      "metadata": {
        "id": "_z1h3QxUExaY",
        "colab_type": "text"
      },
      "source": [
        "## Import libraries"
      ]
    },
    {
      "cell_type": "code",
      "metadata": {
        "id": "G-ZFJyjNEz6t",
        "colab_type": "code",
        "colab": {}
      },
      "source": [
        "import torch\n",
        "import numpy as np\n",
        "import torchvision\n",
        "import torch.nn as nn\n",
        "import matplotlib.pyplot as plt\n",
        "import torchvision.datasets as dataset\n",
        "from torch.utils.data import DataLoader\n",
        "import torchvision.transforms as transform"
      ],
      "execution_count": 0,
      "outputs": []
    },
    {
      "cell_type": "markdown",
      "metadata": {
        "id": "c7HJnft7E1ny",
        "colab_type": "text"
      },
      "source": [
        "## Load dataset"
      ]
    },
    {
      "cell_type": "code",
      "metadata": {
        "id": "MhNsRcnoFtuD",
        "colab_type": "code",
        "colab": {}
      },
      "source": [
        "train_dataset = dataset.MNIST(root='data', train=True, transform=transform.ToTensor(), download=True)\n",
        "test_dataset  = dataset.MNIST(root='data', train=False, transform=transform.ToTensor())"
      ],
      "execution_count": 0,
      "outputs": []
    },
    {
      "cell_type": "code",
      "metadata": {
        "id": "b3GpYBsuHxQK",
        "colab_type": "code",
        "colab": {
          "base_uri": "https://localhost:8080/",
          "height": 52
        },
        "outputId": "eba1843b-4373-4f63-bdcf-1e939ba163ea"
      },
      "source": [
        "print('Train data: ',len(train_dataset))\n",
        "print('Test  data: ',len(test_dataset))"
      ],
      "execution_count": 19,
      "outputs": [
        {
          "output_type": "stream",
          "text": [
            "Train data:  60000\n",
            "Test  data:  10000\n"
          ],
          "name": "stdout"
        }
      ]
    },
    {
      "cell_type": "markdown",
      "metadata": {
        "id": "1A4OAxDYF-JC",
        "colab_type": "text"
      },
      "source": [
        "## Make dataset interable"
      ]
    },
    {
      "cell_type": "markdown",
      "metadata": {
        "id": "V00yZN5tIG0I",
        "colab_type": "text"
      },
      "source": [
        "#### We need to split these 60000 training samples (images) into small groups(batches) and pass these batches into our model. \n",
        "Why do we have to split the data:-\n",
        "- Passing the whole dataset requires a lot of RAM of your CPU/GPU. (Out-Of-Memory)\n",
        "- Passing the whole dataset cause unstable training as a result of accumulating all the error and update model parameters once rather than updating gradually.\n",
        "\n",
        "## Epoch\n",
        "Hyperparameter that define the number of times the learning algorithm will work through the entire dataset.\n",
        "One Epoch is when the entire dataset is passed forward and backward only once.\n",
        "\n",
        "### Batch size\n",
        "The number of examples present in a single batch, i.e examples to work through before updating internal model parameters.\n",
        "\n",
        "### Iterations\n",
        "It define the number of baches needed to complete one epoch."
      ]
    },
    {
      "cell_type": "code",
      "metadata": {
        "id": "45NbD4aPGAs5",
        "colab_type": "code",
        "colab": {}
      },
      "source": [
        "batch_size = 64\n",
        "num_epochs = 5\n",
        "train_loader = DataLoader(dataset=train_dataset, batch_size=batch_size, shuffle=True)\n",
        "test_loader  = DataLoader(dataset=test_dataset, batch_size=batch_size, shuffle=False)"
      ],
      "execution_count": 0,
      "outputs": []
    },
    {
      "cell_type": "code",
      "metadata": {
        "id": "GeAsptmfVVtx",
        "colab_type": "code",
        "colab": {}
      },
      "source": [
        "# function to show an image\n",
        "def show_image(image):\n",
        "  image = image.numpy()\n",
        "  plt.imshow(np.transpose(image, (1, 2, 0)))"
      ],
      "execution_count": 0,
      "outputs": []
    },
    {
      "cell_type": "code",
      "metadata": {
        "id": "74IafR_gVVp2",
        "colab_type": "code",
        "colab": {
          "base_uri": "https://localhost:8080/",
          "height": 268
        },
        "outputId": "3d391297-4c77-461a-bcd1-2d71a5742358"
      },
      "source": [
        "# get random training images\n",
        "images, labels = iter(train_loader).next()\n",
        "show_image(torchvision.utils.make_grid(images))"
      ],
      "execution_count": 35,
      "outputs": [
        {
          "output_type": "display_data",
          "data": {
            "image/png": "[encoded data removed]",
            "text/plain": [
              "<Figure size 432x288 with 1 Axes>"
            ]
          },
          "metadata": {
            "tags": []
          }
        }
      ]
    },
    {
      "cell_type": "markdown",
      "metadata": {
        "id": "cmAlmRLzGBJM",
        "colab_type": "text"
      },
      "source": [
        "## Define a Model"
      ]
    },
    {
      "cell_type": "code",
      "metadata": {
        "id": "foOLc4emGEzO",
        "colab_type": "code",
        "colab": {}
      },
      "source": [
        "class Network(nn.Module):\n",
        "    def __init__(self, input_dimension, hidden_dimension, output_dimension):\n",
        "        super(Network, self).__init__()\n",
        "        # Linear function\n",
        "        self.fc1 = nn.Linear(input_dimension, hidden_dimension) \n",
        "        # Non-linearity\n",
        "        self.sigmoid = nn.Sigmoid()\n",
        "        # Linear function\n",
        "        self.fc2 = nn.Linear(hidden_dimension, output_dimension)  \n",
        "\n",
        "    def forward(self, x):\n",
        "        output = self.fc1(x)\n",
        "        # Non-linearity\n",
        "        output = self.sigmoid(output)\n",
        "        # Linear function\n",
        "        output = self.fc2(output)\n",
        "        return output"
      ],
      "execution_count": 0,
      "outputs": []
    },
    {
      "cell_type": "markdown",
      "metadata": {
        "id": "chky0DSzYHGR",
        "colab_type": "text"
      },
      "source": [
        "#### Instantiate amodel\n",
        "- Input dimention:  28*28   Size of image\n",
        "- Hidden dimension: 150     Number of neurons\n",
        "- Output dimension: 10      Number of classes"
      ]
    },
    {
      "cell_type": "code",
      "metadata": {
        "id": "pJM8bI35YV7U",
        "colab_type": "code",
        "colab": {}
      },
      "source": [
        "model = Network(28*28, 150, 10)"
      ],
      "execution_count": 0,
      "outputs": []
    },
    {
      "cell_type": "code",
      "metadata": {
        "id": "c47ooUFhZE_g",
        "colab_type": "code",
        "colab": {
          "base_uri": "https://localhost:8080/",
          "height": 105
        },
        "outputId": "184f95b0-faef-4dcd-cff6-2dd7f283db11"
      },
      "source": [
        "print(model)"
      ],
      "execution_count": 38,
      "outputs": [
        {
          "output_type": "stream",
          "text": [
            "Network(\n",
            "  (fc1): Linear(in_features=784, out_features=150, bias=True)\n",
            "  (sigmoid): Sigmoid()\n",
            "  (fc2): Linear(in_features=150, out_features=10, bias=True)\n",
            ")\n"
          ],
          "name": "stdout"
        }
      ]
    },
    {
      "cell_type": "markdown",
      "metadata": {
        "id": "7MY6IBZqGFt8",
        "colab_type": "text"
      },
      "source": [
        "## Define Loss function"
      ]
    },
    {
      "cell_type": "code",
      "metadata": {
        "id": "98_BGFxIGKcy",
        "colab_type": "code",
        "colab": {}
      },
      "source": [
        ""
      ],
      "execution_count": 0,
      "outputs": []
    },
    {
      "cell_type": "markdown",
      "metadata": {
        "id": "F4Y-NH9uGm5V",
        "colab_type": "text"
      },
      "source": [
        "## Define Optimizer"
      ]
    },
    {
      "cell_type": "code",
      "metadata": {
        "id": "uvdbdr4GGn6T",
        "colab_type": "code",
        "colab": {}
      },
      "source": [
        ""
      ],
      "execution_count": 0,
      "outputs": []
    },
    {
      "cell_type": "markdown",
      "metadata": {
        "id": "RQlDQvrLGrqg",
        "colab_type": "text"
      },
      "source": [
        "## Train a Model"
      ]
    },
    {
      "cell_type": "code",
      "metadata": {
        "id": "7xXJPYDPGuDg",
        "colab_type": "code",
        "colab": {}
      },
      "source": [
        ""
      ],
      "execution_count": 0,
      "outputs": []
    }
  ]
}