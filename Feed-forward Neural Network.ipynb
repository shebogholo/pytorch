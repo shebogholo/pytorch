{
  "nbformat": 4,
  "nbformat_minor": 0,
  "metadata": {
    "accelerator": "GPU",
    "colab": {
      "name": "Feed-forward Neural Network.ipynb",
      "version": "0.3.2",
      "provenance": [],
      "include_colab_link": true
    },
    "kernelspec": {
      "name": "python3",
      "display_name": "Python 3"
    },
    "language_info": {
      "codemirror_mode": {
        "name": "ipython",
        "version": 3
      },
      "file_extension": ".py",
      "mimetype": "text/x-python",
      "name": "python",
      "nbconvert_exporter": "python",
      "pygments_lexer": "ipython3",
      "version": "3.7.3"
    }
  },
  "cells": [
    {
      "cell_type": "markdown",
      "metadata": {
        "id": "view-in-github",
        "colab_type": "text"
      },
      "source": [
        "<a href=\"https://colab.research.google.com/github/shebogholo/pytorch/blob/master/Feed-forward%20Neural%20Network.ipynb\" target=\"_parent\"><img src=\"https://colab.research.google.com/assets/colab-badge.svg\" alt=\"Open In Colab\"/></a>"
      ]
    },
    {
      "cell_type": "markdown",
      "metadata": {
        "id": "oEV3Y4QXBXrv",
        "colab_type": "text"
      },
      "source": [
        "<img src='https://github.com/shebogholo/pytorch/blob/master/images/feed-forward.png?raw=1' />"
      ]
    },
    {
      "cell_type": "markdown",
      "metadata": {
        "id": "TNTPnbq3gCPC",
        "colab_type": "text"
      },
      "source": [
        "## Import libraries"
      ]
    },
    {
      "cell_type": "code",
      "metadata": {
        "colab_type": "code",
        "id": "G-ZFJyjNEz6t",
        "colab": {}
      },
      "source": [
        "import torch\n",
        "import numpy as np\n",
        "import torchvision\n",
        "import torch.nn as nn\n",
        "import torch.optim as optim\n",
        "import matplotlib.pyplot as plt\n",
        "import torchvision.datasets as dataset\n",
        "from torch.utils.data import DataLoader\n",
        "import torchvision.transforms as transform"
      ],
      "execution_count": 0,
      "outputs": []
    },
    {
      "cell_type": "markdown",
      "metadata": {
        "colab_type": "text",
        "id": "c7HJnft7E1ny"
      },
      "source": [
        "## Load dataset"
      ]
    },
    {
      "cell_type": "code",
      "metadata": {
        "colab_type": "code",
        "id": "MhNsRcnoFtuD",
        "colab": {}
      },
      "source": [
        "train_dataset = dataset.MNIST(root='data', train=True, transform=transform.ToTensor(), download=True)\n",
        "test_dataset  = dataset.MNIST(root='data', train=False, transform=transform.ToTensor())"
      ],
      "execution_count": 0,
      "outputs": []
    },
    {
      "cell_type": "markdown",
      "metadata": {
        "id": "nGIQcWudEXJJ",
        "colab_type": "text"
      },
      "source": [
        ""
      ]
    },
    {
      "cell_type": "code",
      "metadata": {
        "colab_type": "code",
        "id": "b3GpYBsuHxQK",
        "outputId": "5e13f6eb-05d9-4228-d3d7-50faf0581272",
        "colab": {
          "base_uri": "https://localhost:8080/",
          "height": 54
        }
      },
      "source": [
        "print('Train data: ',len(train_dataset))\n",
        "print('Test  data: ',len(test_dataset))"
      ],
      "execution_count": 3,
      "outputs": [
        {
          "output_type": "stream",
          "text": [
            "Train data:  60000\n",
            "Test  data:  10000\n"
          ],
          "name": "stdout"
        }
      ]
    },
    {
      "cell_type": "markdown",
      "metadata": {
        "colab_type": "text",
        "id": "1A4OAxDYF-JC"
      },
      "source": [
        "## Make dataset iterable"
      ]
    },
    {
      "cell_type": "markdown",
      "metadata": {
        "colab_type": "text",
        "id": "V00yZN5tIG0I"
      },
      "source": [
        "#### We need to split these 60000 training samples (images) into small groups(batches) and pass these batches into our model. \n",
        "Why do we have to split the data:-\n",
        "- Passing the whole dataset requires a lot of RAM of your CPU/GPU. (Out-Of-Memory)\n",
        "- Passing the whole dataset cause unstable training as a result of accumulating all the error and update model parameters once rather than updating gradually.\n",
        "\n",
        "## Epoch\n",
        "Hyperparameter that define the number of times the learning algorithm will work through the entire dataset.\n",
        "One Epoch is when the entire dataset is passed forward and backward only once.\n",
        "\n",
        "### Batch size\n",
        "The number of examples present in a single batch, i.e examples to work through before updating internal model parameters.\n",
        "\n",
        "### Iterations\n",
        "It define the number of baches needed to complete one epoch."
      ]
    },
    {
      "cell_type": "code",
      "metadata": {
        "colab_type": "code",
        "id": "45NbD4aPGAs5",
        "colab": {}
      },
      "source": [
        "batch_size = 64\n",
        "num_epochs = 10\n",
        "train_loader = DataLoader(dataset=train_dataset, batch_size=batch_size, shuffle=True)\n",
        "test_loader  = DataLoader(dataset=test_dataset, batch_size=batch_size, shuffle=False)"
      ],
      "execution_count": 0,
      "outputs": []
    },
    {
      "cell_type": "code",
      "metadata": {
        "colab_type": "code",
        "id": "GeAsptmfVVtx",
        "colab": {}
      },
      "source": [
        "# function to show an image\n",
        "def show_image(image):\n",
        "  image = image.numpy()\n",
        "  plt.imshow(np.transpose(image, (1, 2, 0)))"
      ],
      "execution_count": 0,
      "outputs": []
    },
    {
      "cell_type": "code",
      "metadata": {
        "colab_type": "code",
        "id": "74IafR_gVVp2",
        "outputId": "138ad28f-ae0b-470e-cd33-6ab1623e82ec",
        "colab": {
          "base_uri": "https://localhost:8080/",
          "height": 269
        }
      },
      "source": [
        "# get random training images\n",
        "images, labels = iter(train_loader).next()\n",
        "show_image(torchvision.utils.make_grid(images))"
      ],
      "execution_count": 6,
      "outputs": [
        {
          "output_type": "display_data",
          "data": {
            "image/png": "[encoded data removed]",
            "text/plain": [
              "<Figure size 432x288 with 1 Axes>"
            ]
          },
          "metadata": {
            "tags": []
          }
        }
      ]
    },
    {
      "cell_type": "markdown",
      "metadata": {
        "colab_type": "text",
        "id": "cmAlmRLzGBJM"
      },
      "source": [
        "## Define a Model"
      ]
    },
    {
      "cell_type": "code",
      "metadata": {
        "colab_type": "code",
        "id": "foOLc4emGEzO",
        "colab": {}
      },
      "source": [
        "class Network(nn.Module):\n",
        "    def __init__(self, input_dimension, hidden_dimension, output_dimension):\n",
        "        super(Network, self).__init__()\n",
        "        # Linear function\n",
        "        self.fc1 = nn.Linear(input_dimension, hidden_dimension) \n",
        "        # Non-linearity\n",
        "        self.activation_function = nn.ReLU()\n",
        "        # Linear function\n",
        "        self.fc2 = nn.Linear(hidden_dimension, output_dimension)  \n",
        "\n",
        "    def forward(self, x):\n",
        "        output = self.fc1(x)\n",
        "        # Non-linearity\n",
        "        output = self.activation_function(output)\n",
        "        # Linear function\n",
        "        output = self.fc2(output)\n",
        "        return output"
      ],
      "execution_count": 0,
      "outputs": []
    },
    {
      "cell_type": "markdown",
      "metadata": {
        "colab_type": "text",
        "id": "chky0DSzYHGR"
      },
      "source": [
        "#### Instantiate amodel\n",
        "- Input dimention:  28*28   Size of image\n",
        "- Hidden dimension: 150     Number of neurons\n",
        "- Output dimension: 10      Number of classes"
      ]
    },
    {
      "cell_type": "code",
      "metadata": {
        "colab_type": "code",
        "id": "dRP2Vez1iJOh",
        "colab": {}
      },
      "source": [
        "input_dimension  = 784\n",
        "hidden_dimension = 150\n",
        "output_dimension = 10"
      ],
      "execution_count": 0,
      "outputs": []
    },
    {
      "cell_type": "code",
      "metadata": {
        "colab_type": "code",
        "id": "pJM8bI35YV7U",
        "colab": {}
      },
      "source": [
        "# model = Network(28*28, 150, 10)\n",
        "model = Network(input_dimension, hidden_dimension, output_dimension)"
      ],
      "execution_count": 0,
      "outputs": []
    },
    {
      "cell_type": "code",
      "metadata": {
        "colab_type": "code",
        "id": "c47ooUFhZE_g",
        "outputId": "71e67f49-8cae-467e-e52f-0c58c7aa1a67",
        "colab": {
          "base_uri": "https://localhost:8080/",
          "height": 108
        }
      },
      "source": [
        "print(model)"
      ],
      "execution_count": 10,
      "outputs": [
        {
          "output_type": "stream",
          "text": [
            "Network(\n",
            "  (fc1): Linear(in_features=784, out_features=150, bias=True)\n",
            "  (activation_function): ReLU()\n",
            "  (fc2): Linear(in_features=150, out_features=10, bias=True)\n",
            ")\n"
          ],
          "name": "stdout"
        }
      ]
    },
    {
      "cell_type": "markdown",
      "metadata": {
        "colab_type": "text",
        "id": "7MY6IBZqGFt8"
      },
      "source": [
        "## Define Loss function\n",
        "In this classification problem, we'll use cross entropy loss to compute the loss between softmax output and the actual labels."
      ]
    },
    {
      "cell_type": "code",
      "metadata": {
        "colab_type": "code",
        "id": "98_BGFxIGKcy",
        "colab": {}
      },
      "source": [
        "criterion = nn.CrossEntropyLoss()"
      ],
      "execution_count": 0,
      "outputs": []
    },
    {
      "cell_type": "markdown",
      "metadata": {
        "colab_type": "text",
        "id": "F4Y-NH9uGm5V"
      },
      "source": [
        "## Define Optimizer\n",
        "Optimizer choose a way to update model parameters in order to converge to find the best weights and biases for the Network.\n",
        "`Learning rate` is a hyperparameter that controls how much we'are adjusting the parameters of the model with respect to the gradient of the loss function."
      ]
    },
    {
      "cell_type": "code",
      "metadata": {
        "colab_type": "code",
        "id": "uvdbdr4GGn6T",
        "colab": {}
      },
      "source": [
        "learning_rate = 0.001\n",
        "optimizer = optim.SGD(model.parameters(), lr=learning_rate)"
      ],
      "execution_count": 0,
      "outputs": []
    },
    {
      "cell_type": "markdown",
      "metadata": {
        "colab_type": "text",
        "id": "RQlDQvrLGrqg"
      },
      "source": [
        "## Train a Model"
      ]
    },
    {
      "cell_type": "code",
      "metadata": {
        "colab_type": "code",
        "id": "7xXJPYDPGuDg",
        "outputId": "237a2d5e-9d7f-4a7a-f526-9ff0b793df91",
        "colab": {
          "base_uri": "https://localhost:8080/",
          "height": 181
        }
      },
      "source": [
        "iter = 0\n",
        "for epoch in range(num_epochs):\n",
        "    for i, (images, labels) in enumerate(train_loader):\n",
        "        # Load images with gradient accumulation capabilities\n",
        "        images = images.view(-1, 28*28).requires_grad_()\n",
        "\n",
        "        # Clear gradients w.r.t. parameters\n",
        "        optimizer.zero_grad()\n",
        "\n",
        "        # Forward pass to get output\n",
        "        outputs = model(images)\n",
        "\n",
        "        # Calculate Loss\n",
        "        loss = criterion(outputs, labels)\n",
        "\n",
        "        # Getting gradients w.r.t. parameters\n",
        "        loss.backward()\n",
        "\n",
        "        # Updating parameters\n",
        "        optimizer.step()\n",
        "\n",
        "        iter += 1\n",
        "\n",
        "        if iter % 1000 == 0:\n",
        "            # Calculate Accuracy         \n",
        "            correct = 0\n",
        "            total = 0\n",
        "            # Iterate through test dataset\n",
        "            for images, labels in test_loader:\n",
        "                # Load images with gradient accumulation capabilities\n",
        "                images = images.view(-1, 28*28).requires_grad_()\n",
        "\n",
        "                # Forward pass only to get logits/output\n",
        "                outputs = model(images)\n",
        "\n",
        "                # Get predictions from the maximum value\n",
        "                _, predicted = torch.max(outputs.data, 1)\n",
        "\n",
        "                # Total number of labels\n",
        "                total += labels.size(0)\n",
        "\n",
        "                # Total correct predictions\n",
        "                correct += (predicted == labels).sum()\n",
        "\n",
        "            accuracy = 100 * correct / total\n",
        "\n",
        "            # Print Loss\n",
        "            print('Iteration: {}. Loss: {:.4f}. Test accuracy: {}'.format(iter, loss.item(), accuracy))"
      ],
      "execution_count": 15,
      "outputs": [
        {
          "output_type": "stream",
          "text": [
            "Iteration: 1000. Loss: 0.2124. Test accuracy: 93\n",
            "Iteration: 2000. Loss: 0.2478. Test accuracy: 93\n",
            "Iteration: 3000. Loss: 0.1656. Test accuracy: 93\n",
            "Iteration: 4000. Loss: 0.3579. Test accuracy: 93\n",
            "Iteration: 5000. Loss: 0.3502. Test accuracy: 93\n",
            "Iteration: 6000. Loss: 0.2470. Test accuracy: 93\n",
            "Iteration: 7000. Loss: 0.3249. Test accuracy: 93\n",
            "Iteration: 8000. Loss: 0.1054. Test accuracy: 93\n",
            "Iteration: 9000. Loss: 0.1341. Test accuracy: 93\n"
          ],
          "name": "stdout"
        }
      ]
    }
  ]
}