{
  "nbformat": 4,
  "nbformat_minor": 0,
  "metadata": {
    "colab": {
      "name": "Convolutional Neural Network 01.ipynb",
      "version": "0.3.2",
      "provenance": [],
      "collapsed_sections": [],
      "include_colab_link": true
    },
    "kernelspec": {
      "name": "python3",
      "display_name": "Python 3"
    },
    "accelerator": "GPU"
  },
  "cells": [
    {
      "cell_type": "markdown",
      "metadata": {
        "id": "view-in-github",
        "colab_type": "text"
      },
      "source": [
        "<a href=\"https://colab.research.google.com/github/shebogholo/pytorch/blob/master/Convolutional%20Neural%20Network%2001.ipynb\" target=\"_parent\"><img src=\"https://colab.research.google.com/assets/colab-badge.svg\" alt=\"Open In Colab\"/></a>"
      ]
    },
    {
      "cell_type": "markdown",
      "metadata": {
        "id": "xVDx9tH0-oVO",
        "colab_type": "text"
      },
      "source": [
        "## Import libraries"
      ]
    },
    {
      "cell_type": "code",
      "metadata": {
        "id": "aW9Tfm_2-tHf",
        "colab_type": "code",
        "colab": {}
      },
      "source": [
        "import os\n",
        "import glob\n",
        "import torch\n",
        "import numpy as np\n",
        "import torchvision\n",
        "from PIL import Image\n",
        "import torch.nn as nn\n",
        "import os.path as path\n",
        "import torch.optim as optim\n",
        "import matplotlib.pyplot as plt\n",
        "import torch.nn.functional as F\n",
        "import torchvision.transforms as transform\n",
        "from torch.utils.data import Dataset, DataLoader\n",
        "import warnings\n",
        "warnings.filterwarnings('ignore')"
      ],
      "execution_count": 0,
      "outputs": []
    },
    {
      "cell_type": "markdown",
      "metadata": {
        "id": "XKw4WWkV-xu9",
        "colab_type": "text"
      },
      "source": [
        "## Hyperparameters"
      ]
    },
    {
      "cell_type": "code",
      "metadata": {
        "id": "fEvzf9WP-wBY",
        "colab_type": "code",
        "colab": {}
      },
      "source": [
        "num_epochs = 5\n",
        "batch_size = 32\n",
        "log_interval = 1000\n",
        "learning_rate = 0.001"
      ],
      "execution_count": 0,
      "outputs": []
    },
    {
      "cell_type": "markdown",
      "metadata": {
        "id": "Wl0NRceK98Qu",
        "colab_type": "text"
      },
      "source": [
        "## Custom Dataset"
      ]
    },
    {
      "cell_type": "code",
      "metadata": {
        "id": "4Y4EsEBn9aSY",
        "colab_type": "code",
        "colab": {}
      },
      "source": [
        "# Download MNIST png data\n",
        "!wget -q https://github.com/myleott/mnist_png/blob/master/mnist_png.tar.gz?raw=true\n",
        "!mv mnist_png.tar.gz?raw=true mnist_png.tar.gz\n",
        "!tar -xzf mnist_png.tar.gz"
      ],
      "execution_count": 0,
      "outputs": []
    },
    {
      "cell_type": "code",
      "metadata": {
        "id": "Qbx7K0UYwad-",
        "colab_type": "code",
        "colab": {}
      },
      "source": [
        "# Define custom dataset class\n",
        "class MNIST(Dataset):\n",
        "  def __init__(self, root, transform=None):\n",
        "    self.images = None\n",
        "    self.labels = None\n",
        "    self.root = root\n",
        "    self.transform = transform\n",
        "    self.filenames = []\n",
        "\n",
        "    # read filenames\n",
        "    for label in range(10):\n",
        "      filenames = glob.glob(os.path.join(root, str(label), '*.png'))\n",
        "      for filename in filenames:\n",
        "        self.filenames.append((filename, label))\n",
        "\n",
        "\n",
        "  def __getitem__(self, index):\n",
        "    # load data from image list\n",
        "    image, label = self.filenames[index]\n",
        "    image = Image.open(image)\n",
        "\n",
        "    if self.transform is not None:\n",
        "      image = self.transform(image)\n",
        "    # return image and label\n",
        "    return image, label\n",
        "  \n",
        "\n",
        "  # total number of samples in the dataset\n",
        "  def __len__(self):\n",
        "    return len(self.filenames)"
      ],
      "execution_count": 0,
      "outputs": []
    },
    {
      "cell_type": "code",
      "metadata": {
        "id": "eZXhTj_HzzoO",
        "colab_type": "code",
        "colab": {}
      },
      "source": [
        "'''\n",
        "Create instances of Custom dataset class for training and test data \n",
        "Convert all the images to Tensor (Transformation)\n",
        "'''\n",
        "trainset = MNIST(root='mnist_png/training', transform=transform.ToTensor())\n",
        "testset  = MNIST(root='mnist_png/testing', transform=transform.ToTensor())"
      ],
      "execution_count": 0,
      "outputs": []
    },
    {
      "cell_type": "markdown",
      "metadata": {
        "id": "qGYsMDp_-G6w",
        "colab_type": "text"
      },
      "source": [
        "## DataLoader"
      ]
    },
    {
      "cell_type": "code",
      "metadata": {
        "id": "4t5yNF6Y4Zbt",
        "colab_type": "code",
        "colab": {}
      },
      "source": [
        "train_loader = DataLoader(trainset, batch_size=batch_size, shuffle=True, num_workers=1)\n",
        "test_loader  = DataLoader(testset,  batch_size=batch_size, shuffle=False, num_workers=1)"
      ],
      "execution_count": 0,
      "outputs": []
    },
    {
      "cell_type": "code",
      "metadata": {
        "id": "PXGvcCgs0md3",
        "colab_type": "code",
        "outputId": "3d257555-448d-43c5-d9a6-48b2c441d84f",
        "colab": {
          "base_uri": "https://localhost:8080/",
          "height": 54
        }
      },
      "source": [
        "print('Train data: ',len(trainset))\n",
        "print('Test  data: ',len(testset))"
      ],
      "execution_count": 7,
      "outputs": [
        {
          "output_type": "stream",
          "text": [
            "Train data:  60000\n",
            "Test  data:  10000\n"
          ],
          "name": "stdout"
        }
      ]
    },
    {
      "cell_type": "markdown",
      "metadata": {
        "id": "RotvMoNL-S37",
        "colab_type": "text"
      },
      "source": [
        "## Visualize dataset"
      ]
    },
    {
      "cell_type": "code",
      "metadata": {
        "id": "tKTzbnLB17IX",
        "colab_type": "code",
        "colab": {}
      },
      "source": [
        "# function to show an image\n",
        "def show_image(image):\n",
        "  image = image.numpy()\n",
        "  plt.imshow(np.transpose(image, (1, 2, 0)))"
      ],
      "execution_count": 0,
      "outputs": []
    },
    {
      "cell_type": "code",
      "metadata": {
        "id": "3NIvD_8Q4SSF",
        "colab_type": "code",
        "outputId": "4ce28999-5713-48b8-f501-0fe6cf916c40",
        "colab": {
          "base_uri": "https://localhost:8080/",
          "height": 220
        }
      },
      "source": [
        "# get random training images\n",
        "images, labels = iter(train_loader).next()\n",
        "show_image(torchvision.utils.make_grid(images))"
      ],
      "execution_count": 9,
      "outputs": [
        {
          "output_type": "display_data",
          "data": {
            "image/png": "[encoded data removed]",
            "text/plain": [
              "<Figure size 432x288 with 1 Axes>"
            ]
          },
          "metadata": {
            "tags": []
          }
        }
      ]
    },
    {
      "cell_type": "code",
      "metadata": {
        "id": "6SNXfGZS5JUf",
        "colab_type": "code",
        "outputId": "a81c828c-2719-47d0-ed74-c88a093d7c1d",
        "colab": {
          "base_uri": "https://localhost:8080/",
          "height": 35
        }
      },
      "source": [
        "# check the available device\n",
        "device = torch.device('cuda' if torch.cuda.is_available() else 'cpu')\n",
        "print(device)"
      ],
      "execution_count": 10,
      "outputs": [
        {
          "output_type": "stream",
          "text": [
            "cuda\n"
          ],
          "name": "stdout"
        }
      ]
    },
    {
      "cell_type": "markdown",
      "metadata": {
        "id": "B6qyasXQ-hdg",
        "colab_type": "text"
      },
      "source": [
        "## Define a CNN"
      ]
    },
    {
      "cell_type": "code",
      "metadata": {
        "id": "lSL-LmTA8iTU",
        "colab_type": "code",
        "colab": {}
      },
      "source": [
        "class Network(nn.Module):\n",
        "    def __init__(self):\n",
        "        super(Network, self).__init__()\n",
        "        \n",
        "        # Conv2d(in_channels, out_channels, kernel_size, stride=1, padding=0, dilation=1, groups=1, bias=True, padding_mode='zeros')\n",
        "        self.conv1 = nn.Conv2d(1, 10, kernel_size=5)\n",
        "        self.conv2 = nn.Conv2d(10, 20, kernel_size=5)\n",
        "        \n",
        "        # Linear(in_features, out_features, bias=True)\n",
        "        self.fc1 = nn.Linear(320, 50)\n",
        "        self.fc2 = nn.Linear(50, 10)\n",
        "        \n",
        "        # MaxPool2d(kernel_size, stride=None, padding=0, dilation=1, return_indices=False, ceil_mode=False)\n",
        "        self.max_pool = nn.MaxPool2d(2)\n",
        "        # ReLU(inplace=False)\n",
        "        self.relu = nn.ReLU()\n",
        "\n",
        "    def forward(self, x):\n",
        "        x = self.relu(self.max_pool(self.conv1(x)))\n",
        "        x = self.relu(self.max_pool(self.conv2(x)))\n",
        "        x = x.view(-1, 320)\n",
        "        x = self.relu(self.fc1(x))\n",
        "        x = self.fc2(x)\n",
        "        return F.log_softmax(x, dim=1)"
      ],
      "execution_count": 0,
      "outputs": []
    },
    {
      "cell_type": "code",
      "metadata": {
        "id": "RQNMAvbiDuWl",
        "colab_type": "code",
        "colab": {}
      },
      "source": [
        "model = Network().to(device)"
      ],
      "execution_count": 0,
      "outputs": []
    },
    {
      "cell_type": "markdown",
      "metadata": {
        "id": "DIkXN4nJ8x_6",
        "colab_type": "text"
      },
      "source": [
        "## Define Optimizer"
      ]
    },
    {
      "cell_type": "code",
      "metadata": {
        "id": "lVH5YubfD4Gs",
        "colab_type": "code",
        "colab": {}
      },
      "source": [
        "optimizer = optim.SGD(model.parameters(), lr=learning_rate, momentum=0.9)"
      ],
      "execution_count": 0,
      "outputs": []
    },
    {
      "cell_type": "markdown",
      "metadata": {
        "id": "_kGwY4XB822k",
        "colab_type": "text"
      },
      "source": [
        "## Define Loss function"
      ]
    },
    {
      "cell_type": "code",
      "metadata": {
        "id": "zyqiLFF886O0",
        "colab_type": "code",
        "colab": {}
      },
      "source": [
        "criterion = nn.NLLLoss()"
      ],
      "execution_count": 0,
      "outputs": []
    },
    {
      "cell_type": "markdown",
      "metadata": {
        "id": "r4jHY0IVA-8y",
        "colab_type": "text"
      },
      "source": [
        "## Function to test a model"
      ]
    },
    {
      "cell_type": "code",
      "metadata": {
        "id": "uwlS4m49A_Wr",
        "colab_type": "code",
        "colab": {}
      },
      "source": [
        "def test():\n",
        "  model.eval()  # set evaluation mode\n",
        "  test_loss = 0\n",
        "  correct = 0\n",
        "  with torch.no_grad():\n",
        "    for _, (data, target) in enumerate(test_loader):\n",
        "      data, target = data.to(device), target.to(device)\n",
        "      output = model(data)\n",
        "      test_loss += criterion(output, target).item() # sum up batch loss\n",
        "      pred = output.max(1, keepdim=True)[1] # get the index of the max log-probability\n",
        "      correct += pred.eq(target.view_as(pred)).sum().item()\n",
        "    test_loss /= len(test_loader.dataset)\n",
        "    print('\\nTest loss: {:.4f}, accuracy: {}/{} ({:.0f}%)\\n'.format(\n",
        "        test_loss, correct, len(test_loader.dataset), 100. * correct / len(test_loader.dataset)))"
      ],
      "execution_count": 0,
      "outputs": []
    },
    {
      "cell_type": "markdown",
      "metadata": {
        "id": "0YW0OkDJ_LP_",
        "colab_type": "text"
      },
      "source": [
        "## Train CNN"
      ]
    },
    {
      "cell_type": "code",
      "metadata": {
        "id": "0wFNd7kS_NUn",
        "colab_type": "code",
        "outputId": "c3e95f55-37bc-4ae6-80cc-77efba8e6d64",
        "colab": {
          "base_uri": "https://localhost:8080/",
          "height": 472
        }
      },
      "source": [
        "iteration = 0\n",
        "for epoch in range(num_epochs):\n",
        "  for batch_idx, (data, target) in enumerate(train_loader):\n",
        "\n",
        "    # bring data to the computing device, e.g. GPU\n",
        "    data, target = data.to(device), target.to(device)\n",
        "\n",
        "    # forward pass\n",
        "    output = model(data)\n",
        "    \n",
        "    # compute loss: negative log-likelihood\n",
        "    loss = criterion(output, target)\n",
        "     \n",
        "    # backward pass\n",
        "    # clear the gradients of all tensors being optimized.\n",
        "    optimizer.zero_grad()\n",
        "    # accumulate (i.e. add) the gradients from this forward pass\n",
        "    loss.backward()\n",
        "    # performs a single optimization step (parameter update)\n",
        "    optimizer.step()\n",
        "    if iteration % log_interval == 0:\n",
        "      print('Epoch: {} \\tloss: {:.6f}'.format(epoch+1, loss.item()))\n",
        "    iteration += 1\n",
        "  test()"
      ],
      "execution_count": 19,
      "outputs": [
        {
          "output_type": "stream",
          "text": [
            "Epoch: 1 \tloss: 0.210248\n",
            "Epoch: 1 \tloss: 0.059016\n",
            "\n",
            "Test loss: 0.0039, accuracy: 9629/10000 (96%)\n",
            "\n",
            "Epoch: 2 \tloss: 0.184392\n",
            "Epoch: 2 \tloss: 0.149671\n",
            "\n",
            "Test loss: 0.0027, accuracy: 9727/10000 (97%)\n",
            "\n",
            "Epoch: 3 \tloss: 0.440628\n",
            "Epoch: 3 \tloss: 0.035540\n",
            "\n",
            "Test loss: 0.0024, accuracy: 9757/10000 (98%)\n",
            "\n",
            "Epoch: 4 \tloss: 0.011901\n",
            "Epoch: 4 \tloss: 0.073828\n",
            "\n",
            "Test loss: 0.0020, accuracy: 9793/10000 (98%)\n",
            "\n",
            "Epoch: 5 \tloss: 0.028404\n",
            "Epoch: 5 \tloss: 0.058499\n",
            "\n",
            "Test loss: 0.0019, accuracy: 9809/10000 (98%)\n",
            "\n"
          ],
          "name": "stdout"
        }
      ]
    },
    {
      "cell_type": "code",
      "metadata": {
        "id": "pkSsYs6ECSzQ",
        "colab_type": "code",
        "colab": {
          "base_uri": "https://localhost:8080/",
          "height": 72
        },
        "outputId": "825ae9a1-4f0c-4692-d4c4-8088ba3644d0"
      },
      "source": [
        "test()"
      ],
      "execution_count": 20,
      "outputs": [
        {
          "output_type": "stream",
          "text": [
            "\n",
            "Test loss: 0.0019, accuracy: 9809/10000 (98%)\n",
            "\n"
          ],
          "name": "stdout"
        }
      ]
    },
    {
      "cell_type": "markdown",
      "metadata": {
        "id": "tebNSag-_OW5",
        "colab_type": "text"
      },
      "source": [
        "## Save model"
      ]
    },
    {
      "cell_type": "code",
      "metadata": {
        "id": "AFnZaqCf_WCv",
        "colab_type": "code",
        "colab": {}
      },
      "source": [
        "def save_checkpoint(checkpoint_path, model, optimizer):\n",
        "    '''\n",
        "      state_dict: a Python dictionary object that:\n",
        "       - for a model, maps each layer to its parameter tensor;\n",
        "       - for an optimizer, contains info about the optimizer’s states and hyperparameters used.\n",
        "    '''\n",
        "    state = {\n",
        "        'state_dict': model.state_dict(),\n",
        "        'optimizer' : optimizer.state_dict()}\n",
        "    torch.save(state, checkpoint_path)\n",
        "    print('Model saved to {}'.format(checkpoint_path))\n",
        "    \n",
        "    \n",
        "def load_checkpoint(checkpoint_path, model, optimizer):\n",
        "    state = torch.load(checkpoint_path)\n",
        "    model.load_state_dict(state['state_dict'])\n",
        "    optimizer.load_state_dict(state['optimizer'])\n",
        "    print('Model loaded from {}'.format(checkpoint_path))"
      ],
      "execution_count": 0,
      "outputs": []
    },
    {
      "cell_type": "markdown",
      "metadata": {
        "id": "xYTyYswu_XUX",
        "colab_type": "text"
      },
      "source": [
        "## Fine-tune a model"
      ]
    },
    {
      "cell_type": "code",
      "metadata": {
        "id": "DK46kJpQ_dEg",
        "colab_type": "code",
        "colab": {}
      },
      "source": [
        ""
      ],
      "execution_count": 0,
      "outputs": []
    }
  ]
}