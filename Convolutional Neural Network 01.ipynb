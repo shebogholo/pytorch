{
  "nbformat": 4,
  "nbformat_minor": 0,
  "metadata": {
    "colab": {
      "name": "pytorch_1.2.ipynb",
      "version": "0.3.2",
      "provenance": [],
      "include_colab_link": true
    },
    "kernelspec": {
      "name": "python3",
      "display_name": "Python 3"
    },
    "accelerator": "GPU"
  },
  "cells": [
    {
      "cell_type": "markdown",
      "metadata": {
        "id": "view-in-github",
        "colab_type": "text"
      },
      "source": [
        "<a href=\"https://colab.research.google.com/github/shebogholo/pytorch/blob/master/Convolutional%20Neural%20Network%2001.ipynb\" target=\"_parent\"><img src=\"https://colab.research.google.com/assets/colab-badge.svg\" alt=\"Open In Colab\"/></a>"
      ]
    },
    {
      "cell_type": "markdown",
      "metadata": {
        "id": "xVDx9tH0-oVO",
        "colab_type": "text"
      },
      "source": [
        "## Import libraries"
      ]
    },
    {
      "cell_type": "code",
      "metadata": {
        "id": "aW9Tfm_2-tHf",
        "colab_type": "code",
        "colab": {}
      },
      "source": [
        "import os\n",
        "import glob\n",
        "import torch\n",
        "import numpy as np\n",
        "import torchvision\n",
        "from PIL import Image\n",
        "import torch.nn as nn\n",
        "import os.path as path\n",
        "import torch.optim as optim\n",
        "import matplotlib.pyplot as plt\n",
        "import torch.nn.functional as F\n",
        "import torchvision.transforms as transform\n",
        "from torch.utils.data import Dataset, DataLoader\n",
        "import warnings\n",
        "warnings.filterwarnings('ignore')"
      ],
      "execution_count": 0,
      "outputs": []
    },
    {
      "cell_type": "markdown",
      "metadata": {
        "id": "XKw4WWkV-xu9",
        "colab_type": "text"
      },
      "source": [
        "## Hyperparameters"
      ]
    },
    {
      "cell_type": "code",
      "metadata": {
        "id": "fEvzf9WP-wBY",
        "colab_type": "code",
        "colab": {}
      },
      "source": [
        "num_epochs = 5\n",
        "batch_size = 32\n",
        "log_interval = 1000\n",
        "learning_rate = 0.001"
      ],
      "execution_count": 0,
      "outputs": []
    },
    {
      "cell_type": "markdown",
      "metadata": {
        "id": "Wl0NRceK98Qu",
        "colab_type": "text"
      },
      "source": [
        "## Custom Dataset"
      ]
    },
    {
      "cell_type": "code",
      "metadata": {
        "id": "4Y4EsEBn9aSY",
        "colab_type": "code",
        "colab": {}
      },
      "source": [
        "# Download MNIST png data\n",
        "!wget -q https://github.com/myleott/mnist_png/blob/master/mnist_png.tar.gz?raw=true\n",
        "!mv mnist_png.tar.gz?raw=true mnist_png.tar.gz\n",
        "!tar -xzf mnist_png.tar.gz"
      ],
      "execution_count": 0,
      "outputs": []
    },
    {
      "cell_type": "code",
      "metadata": {
        "id": "Qbx7K0UYwad-",
        "colab_type": "code",
        "colab": {}
      },
      "source": [
        "# Define custom dataset class\n",
        "class MNIST(Dataset):\n",
        "  def __init__(self, root, transform=None):\n",
        "    self.images = None\n",
        "    self.labels = None\n",
        "    self.root = root\n",
        "    self.transform = transform\n",
        "    self.filenames = []\n",
        "\n",
        "    # read filenames\n",
        "    for label in range(10):\n",
        "      filenames = glob.glob(os.path.join(root, str(label), '*.png'))\n",
        "      for filename in filenames:\n",
        "        self.filenames.append((filename, label))\n",
        "\n",
        "\n",
        "  def __getitem__(self, index):\n",
        "    # load data from image list\n",
        "    image, label = self.filenames[index]\n",
        "    image = Image.open(image)\n",
        "\n",
        "    if self.transform is not None:\n",
        "      image = self.transform(image)\n",
        "    # return image and label\n",
        "    return image, label\n",
        "  \n",
        "\n",
        "  # total number of samples in the dataset\n",
        "  def __len__(self):\n",
        "    return len(self.filenames)"
      ],
      "execution_count": 0,
      "outputs": []
    },
    {
      "cell_type": "code",
      "metadata": {
        "id": "eZXhTj_HzzoO",
        "colab_type": "code",
        "colab": {}
      },
      "source": [
        "'''\n",
        "Create instances of Custom dataset class for training and test data \n",
        "Convert all the images to Tensor (Transformation)\n",
        "'''\n",
        "trainset = MNIST(root='mnist_png/training', transform=transform.ToTensor())\n",
        "testset  = MNIST(root='mnist_png/testing', transform=transform.ToTensor())"
      ],
      "execution_count": 0,
      "outputs": []
    },
    {
      "cell_type": "markdown",
      "metadata": {
        "id": "qGYsMDp_-G6w",
        "colab_type": "text"
      },
      "source": [
        "## DataLoader"
      ]
    },
    {
      "cell_type": "code",
      "metadata": {
        "id": "4t5yNF6Y4Zbt",
        "colab_type": "code",
        "colab": {}
      },
      "source": [
        "train_loader = DataLoader(trainset, batch_size=batch_size, shuffle=True, num_workers=1)\n",
        "test_loader  = DataLoader(testset,  batch_size=batch_size, shuffle=False, num_workers=1)"
      ],
      "execution_count": 0,
      "outputs": []
    },
    {
      "cell_type": "code",
      "metadata": {
        "id": "PXGvcCgs0md3",
        "colab_type": "code",
        "outputId": "d70a7a34-d906-4448-b45d-fbcde43b2c34",
        "colab": {
          "base_uri": "https://localhost:8080/",
          "height": 54
        }
      },
      "source": [
        "print('Train data: ',len(trainset))\n",
        "print('Test  data: ',len(testset))"
      ],
      "execution_count": 6,
      "outputs": [
        {
          "output_type": "stream",
          "text": [
            "Train data:  60000\n",
            "Test  data:  10000\n"
          ],
          "name": "stdout"
        }
      ]
    },
    {
      "cell_type": "markdown",
      "metadata": {
        "id": "RotvMoNL-S37",
        "colab_type": "text"
      },
      "source": [
        "## Visualize dataset"
      ]
    },
    {
      "cell_type": "code",
      "metadata": {
        "id": "tKTzbnLB17IX",
        "colab_type": "code",
        "colab": {}
      },
      "source": [
        "# function to show an image\n",
        "def show_image(image):\n",
        "  image = image.numpy()\n",
        "  plt.imshow(np.transpose(image, (1, 2, 0)))"
      ],
      "execution_count": 0,
      "outputs": []
    },
    {
      "cell_type": "code",
      "metadata": {
        "id": "3NIvD_8Q4SSF",
        "colab_type": "code",
        "outputId": "391da205-ae1c-479b-8d6a-4cbbf5ecfac2",
        "colab": {
          "base_uri": "https://localhost:8080/",
          "height": 220
        }
      },
      "source": [
        "# get random training images\n",
        "images, labels = iter(train_loader).next()\n",
        "show_image(torchvision.utils.make_grid(images))"
      ],
      "execution_count": 8,
      "outputs": [
        {
          "output_type": "display_data",
          "data": {
            "image/png": "[encoded data removed]",
            "text/plain": [
              "<Figure size 432x288 with 1 Axes>"
            ]
          },
          "metadata": {
            "tags": []
          }
        }
      ]
    },
    {
      "cell_type": "code",
      "metadata": {
        "id": "6SNXfGZS5JUf",
        "colab_type": "code",
        "outputId": "f1e95cf7-6bfc-425a-b6aa-7efb328ceeba",
        "colab": {
          "base_uri": "https://localhost:8080/",
          "height": 35
        }
      },
      "source": [
        "# check the available device\n",
        "device = torch.device('cuda' if torch.cuda.is_available() else 'cpu')\n",
        "print(device)"
      ],
      "execution_count": 9,
      "outputs": [
        {
          "output_type": "stream",
          "text": [
            "cuda\n"
          ],
          "name": "stdout"
        }
      ]
    },
    {
      "cell_type": "markdown",
      "metadata": {
        "id": "B6qyasXQ-hdg",
        "colab_type": "text"
      },
      "source": [
        "## Define a CNN"
      ]
    },
    {
      "cell_type": "code",
      "metadata": {
        "id": "lSL-LmTA8iTU",
        "colab_type": "code",
        "colab": {}
      },
      "source": [
        "class Network(nn.Module):\n",
        "    def __init__(self):\n",
        "        super(Network, self).__init__()\n",
        "        \n",
        "        # Conv2d(in_channels, out_channels, kernel_size, stride=1, padding=0, dilation=1, groups=1, bias=True, padding_mode='zeros')\n",
        "        self.conv1 = nn.Conv2d(1, 10, kernel_size=5)\n",
        "        self.conv2 = nn.Conv2d(10, 20, kernel_size=5)\n",
        "        \n",
        "        # Linear(in_features, out_features, bias=True)\n",
        "        self.fc1 = nn.Linear(320, 50)\n",
        "        self.fc2 = nn.Linear(50, 10)\n",
        "        \n",
        "        # MaxPool2d(kernel_size, stride=None, padding=0, dilation=1, return_indices=False, ceil_mode=False)\n",
        "        self.max_pool = nn.MaxPool2d(2)\n",
        "        # ReLU(inplace=False)\n",
        "        self.relu = nn.ReLU()\n",
        "\n",
        "    def forward(self, x):\n",
        "        x = self.relu(self.max_pool(self.conv1(x)))\n",
        "        x = self.relu(self.max_pool(self.conv2(x)))\n",
        "        x = x.view(-1, 320)\n",
        "        x = nn.ReLU(self.fc1(x))\n",
        "        x = self.fc2(x)\n",
        "        return F.log_softmax(x, dim=1)\n",
        "\n",
        "model = Network().to(device)"
      ],
      "execution_count": 0,
      "outputs": []
    },
    {
      "cell_type": "code",
      "metadata": {
        "id": "RQNMAvbiDuWl",
        "colab_type": "code",
        "outputId": "3d74ce99-bf11-4735-bfdb-ca9a12c2595a",
        "colab": {
          "base_uri": "https://localhost:8080/",
          "height": 163
        }
      },
      "source": [
        "print(model)"
      ],
      "execution_count": 11,
      "outputs": [
        {
          "output_type": "stream",
          "text": [
            "Network(\n",
            "  (conv1): Conv2d(1, 10, kernel_size=(5, 5), stride=(1, 1))\n",
            "  (conv2): Conv2d(10, 20, kernel_size=(5, 5), stride=(1, 1))\n",
            "  (fc1): Linear(in_features=320, out_features=50, bias=True)\n",
            "  (fc2): Linear(in_features=50, out_features=10, bias=True)\n",
            "  (max_pool): MaxPool2d(kernel_size=2, stride=2, padding=0, dilation=1, ceil_mode=False)\n",
            "  (relu): ReLU()\n",
            ")\n"
          ],
          "name": "stdout"
        }
      ]
    },
    {
      "cell_type": "markdown",
      "metadata": {
        "id": "DIkXN4nJ8x_6",
        "colab_type": "text"
      },
      "source": [
        "## Define Optimizer"
      ]
    },
    {
      "cell_type": "code",
      "metadata": {
        "id": "lVH5YubfD4Gs",
        "colab_type": "code",
        "colab": {}
      },
      "source": [
        "learning_rate = 0.001\n",
        "optimizer = optim.SGD(model.parameters(), lr=learning_rate, momentum=0.9)"
      ],
      "execution_count": 0,
      "outputs": []
    },
    {
      "cell_type": "markdown",
      "metadata": {
        "id": "_kGwY4XB822k",
        "colab_type": "text"
      },
      "source": [
        "## Define Loss function"
      ]
    },
    {
      "cell_type": "code",
      "metadata": {
        "id": "zyqiLFF886O0",
        "colab_type": "code",
        "colab": {}
      },
      "source": [
        "criterion = nn.NLLLoss()"
      ],
      "execution_count": 0,
      "outputs": []
    },
    {
      "cell_type": "markdown",
      "metadata": {
        "id": "r4jHY0IVA-8y",
        "colab_type": "text"
      },
      "source": [
        "## Test model"
      ]
    },
    {
      "cell_type": "code",
      "metadata": {
        "id": "uwlS4m49A_Wr",
        "colab_type": "code",
        "colab": {}
      },
      "source": [
        "def test():\n",
        "  model.eval()  # set evaluation mode\n",
        "  test_loss = 0\n",
        "  correct = 0\n",
        "  with torch.no_grad():\n",
        "    for data, target in test_loader:\n",
        "      data, target = data.to(device), target.to(device)\n",
        "      output = model(data)\n",
        "      test_loss += F.nll_loss(output, target, size_average=False).item() # sum up batch loss\n",
        "      pred = output.max(1, keepdim=True)[1] # get the index of the max log-probability\n",
        "      correct += pred.eq(target.view_as(pred)).sum().item()\n",
        "    test_loss /= len(test_loader.dataset)\n",
        "    print('\\nAverage test loss: {:.4f}, accuracy: {}/{} ({:.0f}%)\\n'.format(\n",
        "        test_loss, correct, len(test_loader.dataset), 100. * correct / len(test_loader.dataset)))"
      ],
      "execution_count": 0,
      "outputs": []
    },
    {
      "cell_type": "markdown",
      "metadata": {
        "id": "0YW0OkDJ_LP_",
        "colab_type": "text"
      },
      "source": [
        "## Train CNN"
      ]
    },
    {
      "cell_type": "code",
      "metadata": {
        "id": "0wFNd7kS_NUn",
        "colab_type": "code",
        "colab": {
          "base_uri": "https://localhost:8080/",
          "height": 528
        },
        "outputId": "c4a4bedc-4547-4a8f-cc9f-dd83d77f29f1"
      },
      "source": [
        "iteration = 0\n",
        "for epoch in range(num_epochs):\n",
        "  for batch_idx, (data, target) in enumerate(train_loader):\n",
        "\n",
        "    # bring data to the computing device, e.g. GPU\n",
        "    data, target = data.to(device), target.to(device)\n",
        "\n",
        "    # forward pass\n",
        "    output = model(data)\n",
        "    \n",
        "    # compute loss: negative log-likelihood\n",
        "    loss = criterion(output, target)\n",
        "     \n",
        "    # backward pass\n",
        "    # clear the gradients of all tensors being optimized.\n",
        "    optimizer.zero_grad()\n",
        "    # accumulate (i.e. add) the gradients from this forward pass\n",
        "    loss.backward()\n",
        "    # performs a single optimization step (parameter update)\n",
        "    optimizer.step()\n",
        "    if iteration % log_interval == 0:\n",
        "      print('Train Epoch: {} \\tloss: {:.6f}'.format(epoch+1,loss.item()))\n",
        "    iteration += 1\n",
        "  test()"
      ],
      "execution_count": 28,
      "outputs": [
        {
          "output_type": "stream",
          "text": [
            "Train Epoch: 1 \tLoss: 0.045933\n",
            "Train Epoch: 1 \tLoss: 0.017976\n"
          ],
          "name": "stdout"
        },
        {
          "output_type": "stream",
          "text": [
            "/usr/local/lib/python3.6/dist-packages/torch/nn/_reduction.py:46: UserWarning: size_average and reduce args will be deprecated, please use reduction='sum' instead.\n",
            "  warnings.warn(warning.format(ret))\n"
          ],
          "name": "stderr"
        },
        {
          "output_type": "stream",
          "text": [
            "\n",
            "Average loss: 0.0492, accuracy: 9840/10000 (98%)\n",
            "\n",
            "Train Epoch: 2 \tLoss: 0.033177\n",
            "Train Epoch: 2 \tLoss: 0.091562\n",
            "\n",
            "Average loss: 0.0421, accuracy: 9859/10000 (99%)\n",
            "\n",
            "Train Epoch: 3 \tLoss: 0.173584\n",
            "Train Epoch: 3 \tLoss: 0.003750\n",
            "\n",
            "Average loss: 0.0421, accuracy: 9860/10000 (99%)\n",
            "\n",
            "Train Epoch: 4 \tLoss: 0.003476\n",
            "Train Epoch: 4 \tLoss: 0.006310\n",
            "\n",
            "Average loss: 0.0365, accuracy: 9881/10000 (99%)\n",
            "\n",
            "Train Epoch: 5 \tLoss: 0.150070\n",
            "Train Epoch: 5 \tLoss: 0.040005\n",
            "\n",
            "Average loss: 0.0388, accuracy: 9864/10000 (99%)\n",
            "\n"
          ],
          "name": "stdout"
        }
      ]
    },
    {
      "cell_type": "code",
      "metadata": {
        "id": "pkSsYs6ECSzQ",
        "colab_type": "code",
        "colab": {}
      },
      "source": [
        ""
      ],
      "execution_count": 0,
      "outputs": []
    },
    {
      "cell_type": "markdown",
      "metadata": {
        "id": "tebNSag-_OW5",
        "colab_type": "text"
      },
      "source": [
        "## Save model"
      ]
    },
    {
      "cell_type": "code",
      "metadata": {
        "id": "AFnZaqCf_WCv",
        "colab_type": "code",
        "colab": {}
      },
      "source": [
        "def save_checkpoint(checkpoint_path, model, optimizer):\n",
        "    '''\n",
        "      state_dict: a Python dictionary object that:\n",
        "       - for a model, maps each layer to its parameter tensor;\n",
        "       - for an optimizer, contains info about the optimizer’s states and hyperparameters used.\n",
        "    '''\n",
        "    state = {\n",
        "        'state_dict': model.state_dict(),\n",
        "        'optimizer' : optimizer.state_dict()}\n",
        "    torch.save(state, checkpoint_path)\n",
        "    print('Model saved to {}'.format(checkpoint_path))\n",
        "    \n",
        "    \n",
        "def load_checkpoint(checkpoint_path, model, optimizer):\n",
        "    state = torch.load(checkpoint_path)\n",
        "    model.load_state_dict(state['state_dict'])\n",
        "    optimizer.load_state_dict(state['optimizer'])\n",
        "    print('Model loaded from {}'.format(checkpoint_path))"
      ],
      "execution_count": 0,
      "outputs": []
    },
    {
      "cell_type": "markdown",
      "metadata": {
        "id": "xYTyYswu_XUX",
        "colab_type": "text"
      },
      "source": [
        "## Fine-tune a model"
      ]
    },
    {
      "cell_type": "code",
      "metadata": {
        "id": "DK46kJpQ_dEg",
        "colab_type": "code",
        "colab": {}
      },
      "source": [
        ""
      ],
      "execution_count": 0,
      "outputs": []
    }
  ]
}