{
  "nbformat": 4,
  "nbformat_minor": 0,
  "metadata": {
    "colab": {
      "name": "Convolutional Neural Network 01.ipynb",
      "version": "0.3.2",
      "provenance": [],
      "collapsed_sections": [],
      "include_colab_link": true
    },
    "kernelspec": {
      "name": "python3",
      "display_name": "Python 3"
    },
    "accelerator": "GPU"
  },
  "cells": [
    {
      "cell_type": "markdown",
      "metadata": {
        "id": "view-in-github",
        "colab_type": "text"
      },
      "source": [
        "<a href=\"https://colab.research.google.com/github/shebogholo/pytorch/blob/master/Convolutional%20Neural%20Network%2001.ipynb\" target=\"_parent\"><img src=\"https://colab.research.google.com/assets/colab-badge.svg\" alt=\"Open In Colab\"/></a>"
      ]
    },
    {
      "cell_type": "markdown",
      "metadata": {
        "id": "xVDx9tH0-oVO",
        "colab_type": "text"
      },
      "source": [
        "## Import libraries"
      ]
    },
    {
      "cell_type": "code",
      "metadata": {
        "id": "aW9Tfm_2-tHf",
        "colab_type": "code",
        "colab": {}
      },
      "source": [
        "import os\n",
        "import glob\n",
        "import torch\n",
        "import numpy as np\n",
        "import torchvision\n",
        "from PIL import Image\n",
        "import torch.nn as nn\n",
        "import os.path as path\n",
        "import torch.optim as optim\n",
        "import matplotlib.pyplot as plt\n",
        "import torch.nn.functional as F\n",
        "import torchvision.transforms as transform\n",
        "from torch.utils.data import Dataset, DataLoader\n",
        "import warnings\n",
        "warnings.filterwarnings('ignore')"
      ],
      "execution_count": 0,
      "outputs": []
    },
    {
      "cell_type": "markdown",
      "metadata": {
        "id": "XKw4WWkV-xu9",
        "colab_type": "text"
      },
      "source": [
        "## Hyperparameters"
      ]
    },
    {
      "cell_type": "code",
      "metadata": {
        "id": "fEvzf9WP-wBY",
        "colab_type": "code",
        "colab": {}
      },
      "source": [
        "num_epochs = 50\n",
        "batch_size = 32\n",
        "log_interval = 1000\n",
        "learning_rate = 0.001"
      ],
      "execution_count": 0,
      "outputs": []
    },
    {
      "cell_type": "markdown",
      "metadata": {
        "id": "Wl0NRceK98Qu",
        "colab_type": "text"
      },
      "source": [
        "## Custom Dataset"
      ]
    },
    {
      "cell_type": "code",
      "metadata": {
        "id": "4Y4EsEBn9aSY",
        "colab_type": "code",
        "colab": {}
      },
      "source": [
        "# Download MNIST png data\n",
        "!wget -q https://github.com/myleott/mnist_png/blob/master/mnist_png.tar.gz?raw=true\n",
        "!mv mnist_png.tar.gz?raw=true mnist_png.tar.gz\n",
        "!tar -xzf mnist_png.tar.gz"
      ],
      "execution_count": 0,
      "outputs": []
    },
    {
      "cell_type": "code",
      "metadata": {
        "id": "Qbx7K0UYwad-",
        "colab_type": "code",
        "colab": {}
      },
      "source": [
        "# Define custom dataset class\n",
        "class MNIST(Dataset):\n",
        "  def __init__(self, root, transform=None):\n",
        "    self.images = None\n",
        "    self.labels = None\n",
        "    self.root = root\n",
        "    self.transform = transform\n",
        "    self.filenames = []\n",
        "\n",
        "    # read filenames\n",
        "    for label in range(10):\n",
        "      filenames = glob.glob(os.path.join(root, str(label), '*.png'))\n",
        "      for filename in filenames:\n",
        "        self.filenames.append((filename, label))\n",
        "\n",
        "\n",
        "  def __getitem__(self, index):\n",
        "    # load data from image list\n",
        "    image, label = self.filenames[index]\n",
        "    image = Image.open(image)\n",
        "\n",
        "    if self.transform is not None:\n",
        "      image = self.transform(image)\n",
        "    # return image and label\n",
        "    return image, label\n",
        "  \n",
        "\n",
        "  # total number of samples in the dataset\n",
        "  def __len__(self):\n",
        "    return len(self.filenames)"
      ],
      "execution_count": 0,
      "outputs": []
    },
    {
      "cell_type": "code",
      "metadata": {
        "id": "eZXhTj_HzzoO",
        "colab_type": "code",
        "colab": {}
      },
      "source": [
        "'''\n",
        "Create instances of Custom dataset class for training and test data \n",
        "Convert all the images to Tensor (Transformation)\n",
        "'''\n",
        "trainset = MNIST(root='mnist_png/training', transform=transform.ToTensor())\n",
        "testset  = MNIST(root='mnist_png/testing', transform=transform.ToTensor())"
      ],
      "execution_count": 0,
      "outputs": []
    },
    {
      "cell_type": "markdown",
      "metadata": {
        "id": "qGYsMDp_-G6w",
        "colab_type": "text"
      },
      "source": [
        "## DataLoader"
      ]
    },
    {
      "cell_type": "code",
      "metadata": {
        "id": "4t5yNF6Y4Zbt",
        "colab_type": "code",
        "colab": {}
      },
      "source": [
        "train_loader = DataLoader(trainset, batch_size=batch_size, shuffle=True, num_workers=1)\n",
        "test_loader  = DataLoader(testset,  batch_size=batch_size, shuffle=False, num_workers=1)"
      ],
      "execution_count": 0,
      "outputs": []
    },
    {
      "cell_type": "code",
      "metadata": {
        "id": "PXGvcCgs0md3",
        "colab_type": "code",
        "outputId": "8bff3b07-f551-431a-d33b-f05e1d7ecf4d",
        "colab": {
          "base_uri": "https://localhost:8080/",
          "height": 54
        }
      },
      "source": [
        "print('Train data: ',len(trainset))\n",
        "print('Test  data: ',len(testset))"
      ],
      "execution_count": 7,
      "outputs": [
        {
          "output_type": "stream",
          "text": [
            "Train data:  60000\n",
            "Test  data:  10000\n"
          ],
          "name": "stdout"
        }
      ]
    },
    {
      "cell_type": "markdown",
      "metadata": {
        "id": "RotvMoNL-S37",
        "colab_type": "text"
      },
      "source": [
        "## Visualize dataset"
      ]
    },
    {
      "cell_type": "code",
      "metadata": {
        "id": "tKTzbnLB17IX",
        "colab_type": "code",
        "colab": {}
      },
      "source": [
        "# function to show an image\n",
        "def show_image(image):\n",
        "  image = image.numpy()\n",
        "  plt.imshow(np.transpose(image, (1, 2, 0)))"
      ],
      "execution_count": 0,
      "outputs": []
    },
    {
      "cell_type": "code",
      "metadata": {
        "id": "3NIvD_8Q4SSF",
        "colab_type": "code",
        "outputId": "7c89fe4f-0137-4865-c4d4-c662113a3c2c",
        "colab": {
          "base_uri": "https://localhost:8080/",
          "height": 220
        }
      },
      "source": [
        "# get random training images\n",
        "images, labels = iter(train_loader).next()\n",
        "show_image(torchvision.utils.make_grid(images))"
      ],
      "execution_count": 9,
      "outputs": [
        {
          "output_type": "display_data",
          "data": {
            "image/png": "[encoded data removed]",
            "text/plain": [
              "<Figure size 432x288 with 1 Axes>"
            ]
          },
          "metadata": {
            "tags": []
          }
        }
      ]
    },
    {
      "cell_type": "code",
      "metadata": {
        "id": "6SNXfGZS5JUf",
        "colab_type": "code",
        "outputId": "18ba4598-55f0-4663-f644-9c8bcc0de52e",
        "colab": {
          "base_uri": "https://localhost:8080/",
          "height": 35
        }
      },
      "source": [
        "# check the available device\n",
        "device = torch.device('cuda' if torch.cuda.is_available() else 'cpu')\n",
        "print(device)"
      ],
      "execution_count": 10,
      "outputs": [
        {
          "output_type": "stream",
          "text": [
            "cuda\n"
          ],
          "name": "stdout"
        }
      ]
    },
    {
      "cell_type": "markdown",
      "metadata": {
        "id": "B6qyasXQ-hdg",
        "colab_type": "text"
      },
      "source": [
        "## Define a CNN"
      ]
    },
    {
      "cell_type": "code",
      "metadata": {
        "id": "lSL-LmTA8iTU",
        "colab_type": "code",
        "colab": {}
      },
      "source": [
        "class Network(nn.Module):\n",
        "    def __init__(self):\n",
        "        super(Network, self).__init__()\n",
        "        \n",
        "        # Conv2d(in_channels, out_channels, kernel_size, stride=1, padding=0, dilation=1, groups=1, bias=True, padding_mode='zeros')\n",
        "        self.conv1 = nn.Conv2d(1, 10, kernel_size=5)\n",
        "        self.conv2 = nn.Conv2d(10, 20, kernel_size=5)\n",
        "        \n",
        "        # Linear(in_features, out_features, bias=True)\n",
        "        self.fc1 = nn.Linear(320, 50)\n",
        "        self.fc2 = nn.Linear(50, 10)\n",
        "        \n",
        "        # MaxPool2d(kernel_size, stride=None, padding=0, dilation=1, return_indices=False, ceil_mode=False)\n",
        "        self.max_pool = nn.MaxPool2d(2)\n",
        "        # ReLU(inplace=False)\n",
        "        self.relu = nn.ReLU()\n",
        "\n",
        "    def forward(self, x):\n",
        "        x = self.relu(self.max_pool(self.conv1(x)))\n",
        "        x = self.relu(self.max_pool(self.conv2(x)))\n",
        "        x = x.view(-1, 320)\n",
        "        x = self.relu(self.fc1(x))\n",
        "        x = self.fc2(x)\n",
        "        return F.log_softmax(x, dim=1)"
      ],
      "execution_count": 0,
      "outputs": []
    },
    {
      "cell_type": "code",
      "metadata": {
        "id": "RQNMAvbiDuWl",
        "colab_type": "code",
        "colab": {}
      },
      "source": [
        "model = Network().to(device)"
      ],
      "execution_count": 0,
      "outputs": []
    },
    {
      "cell_type": "markdown",
      "metadata": {
        "id": "DIkXN4nJ8x_6",
        "colab_type": "text"
      },
      "source": [
        "## Define Optimizer"
      ]
    },
    {
      "cell_type": "code",
      "metadata": {
        "id": "lVH5YubfD4Gs",
        "colab_type": "code",
        "colab": {}
      },
      "source": [
        "optimizer = optim.SGD(model.parameters(), lr=learning_rate, momentum=0.9)"
      ],
      "execution_count": 0,
      "outputs": []
    },
    {
      "cell_type": "markdown",
      "metadata": {
        "id": "_kGwY4XB822k",
        "colab_type": "text"
      },
      "source": [
        "## Define Loss function"
      ]
    },
    {
      "cell_type": "code",
      "metadata": {
        "id": "zyqiLFF886O0",
        "colab_type": "code",
        "colab": {}
      },
      "source": [
        "criterion = nn.NLLLoss()"
      ],
      "execution_count": 0,
      "outputs": []
    },
    {
      "cell_type": "markdown",
      "metadata": {
        "id": "r4jHY0IVA-8y",
        "colab_type": "text"
      },
      "source": [
        "## Function to test a model"
      ]
    },
    {
      "cell_type": "code",
      "metadata": {
        "id": "uwlS4m49A_Wr",
        "colab_type": "code",
        "colab": {}
      },
      "source": [
        "def test():\n",
        "  model.eval()  # set evaluation mode\n",
        "  test_loss = 0\n",
        "  correct = 0\n",
        "  with torch.no_grad():\n",
        "    for _, (data, target) in enumerate(test_loader):\n",
        "      data, target = data.to(device), target.to(device)\n",
        "      output = model(data)\n",
        "      test_loss += criterion(output, target).item() # sum up batch loss\n",
        "      pred = output.max(1, keepdim=True)[1] # get the index of the max log-probability\n",
        "      correct += pred.eq(target.view_as(pred)).sum().item()\n",
        "    test_loss /= len(test_loader.dataset)\n",
        "    print('\\nTest loss: {:.4f}, accuracy: {}/{} ({:.0f}%)\\n'.format(\n",
        "        test_loss, correct, len(test_loader.dataset), 100. * correct / len(test_loader.dataset)))"
      ],
      "execution_count": 0,
      "outputs": []
    },
    {
      "cell_type": "markdown",
      "metadata": {
        "id": "0YW0OkDJ_LP_",
        "colab_type": "text"
      },
      "source": [
        "## Train CNN"
      ]
    },
    {
      "cell_type": "code",
      "metadata": {
        "id": "0wFNd7kS_NUn",
        "colab_type": "code",
        "outputId": "c618affc-35c4-4a3e-8df5-13810b8eaf5a",
        "colab": {
          "base_uri": "https://localhost:8080/",
          "height": 1000
        }
      },
      "source": [
        "iteration = 0\n",
        "for epoch in range(num_epochs):\n",
        "  for batch_idx, (data, target) in enumerate(train_loader):\n",
        "\n",
        "    # bring data to the computing device, e.g. GPU\n",
        "    data, target = data.to(device), target.to(device)\n",
        "\n",
        "    # forward pass\n",
        "    output = model(data)\n",
        "    \n",
        "    # compute loss: negative log-likelihood\n",
        "    loss = criterion(output, target)\n",
        "     \n",
        "    # backward pass\n",
        "    # clear the gradients of all tensors being optimized.\n",
        "    optimizer.zero_grad()\n",
        "    # accumulate (i.e. add) the gradients from this forward pass\n",
        "    loss.backward()\n",
        "    # performs a single optimization step (parameter update)\n",
        "    optimizer.step()\n",
        "    if iteration % log_interval == 0:\n",
        "      print('Epoch: {} \\tloss: {:.6f}'.format(epoch+1, loss.item()))\n",
        "    iteration += 1\n",
        "  test()"
      ],
      "execution_count": 16,
      "outputs": [
        {
          "output_type": "stream",
          "text": [
            "Epoch: 1 \tloss: 2.288442\n",
            "Epoch: 1 \tloss: 0.327041\n",
            "\n",
            "Test loss: 0.0077, accuracy: 9250/10000 (92%)\n",
            "\n",
            "Epoch: 2 \tloss: 0.165377\n",
            "Epoch: 2 \tloss: 0.069408\n",
            "\n",
            "Test loss: 0.0037, accuracy: 9632/10000 (96%)\n",
            "\n",
            "Epoch: 3 \tloss: 0.280562\n",
            "Epoch: 3 \tloss: 0.089651\n",
            "\n",
            "Test loss: 0.0030, accuracy: 9678/10000 (97%)\n",
            "\n",
            "Epoch: 4 \tloss: 0.064815\n",
            "Epoch: 4 \tloss: 0.051161\n",
            "\n",
            "Test loss: 0.0024, accuracy: 9752/10000 (98%)\n",
            "\n",
            "Epoch: 5 \tloss: 0.037032\n",
            "Epoch: 5 \tloss: 0.060354\n",
            "\n",
            "Test loss: 0.0019, accuracy: 9818/10000 (98%)\n",
            "\n",
            "Epoch: 6 \tloss: 0.075358\n",
            "Epoch: 6 \tloss: 0.045934\n",
            "\n",
            "Test loss: 0.0021, accuracy: 9762/10000 (98%)\n",
            "\n",
            "Epoch: 7 \tloss: 0.171122\n",
            "Epoch: 7 \tloss: 0.007684\n",
            "\n",
            "Test loss: 0.0016, accuracy: 9836/10000 (98%)\n",
            "\n",
            "Epoch: 8 \tloss: 0.007682\n",
            "\n",
            "Test loss: 0.0017, accuracy: 9821/10000 (98%)\n",
            "\n",
            "Epoch: 9 \tloss: 0.002813\n",
            "Epoch: 9 \tloss: 0.023047\n",
            "\n",
            "Test loss: 0.0014, accuracy: 9857/10000 (99%)\n",
            "\n",
            "Epoch: 10 \tloss: 0.017970\n",
            "Epoch: 10 \tloss: 0.074832\n",
            "\n",
            "Test loss: 0.0016, accuracy: 9831/10000 (98%)\n",
            "\n",
            "Epoch: 11 \tloss: 0.011798\n",
            "Epoch: 11 \tloss: 0.022139\n",
            "\n",
            "Test loss: 0.0013, accuracy: 9862/10000 (99%)\n",
            "\n",
            "Epoch: 12 \tloss: 0.003058\n",
            "Epoch: 12 \tloss: 0.044667\n",
            "\n",
            "Test loss: 0.0012, accuracy: 9866/10000 (99%)\n",
            "\n",
            "Epoch: 13 \tloss: 0.004069\n",
            "Epoch: 13 \tloss: 0.001948\n",
            "\n",
            "Test loss: 0.0012, accuracy: 9873/10000 (99%)\n",
            "\n",
            "Epoch: 14 \tloss: 0.041141\n",
            "Epoch: 14 \tloss: 0.008376\n",
            "\n",
            "Test loss: 0.0012, accuracy: 9881/10000 (99%)\n",
            "\n",
            "Epoch: 15 \tloss: 0.001947\n",
            "Epoch: 15 \tloss: 0.002902\n",
            "\n",
            "Test loss: 0.0012, accuracy: 9875/10000 (99%)\n",
            "\n",
            "Epoch: 16 \tloss: 0.002267\n",
            "\n",
            "Test loss: 0.0012, accuracy: 9877/10000 (99%)\n",
            "\n",
            "Epoch: 17 \tloss: 0.030333\n",
            "Epoch: 17 \tloss: 0.008124\n",
            "\n",
            "Test loss: 0.0013, accuracy: 9880/10000 (99%)\n",
            "\n",
            "Epoch: 18 \tloss: 0.043086\n",
            "Epoch: 18 \tloss: 0.051611\n",
            "\n",
            "Test loss: 0.0011, accuracy: 9880/10000 (99%)\n",
            "\n",
            "Epoch: 19 \tloss: 0.042729\n",
            "Epoch: 19 \tloss: 0.001357\n",
            "\n",
            "Test loss: 0.0014, accuracy: 9864/10000 (99%)\n",
            "\n",
            "Epoch: 20 \tloss: 0.002049\n",
            "Epoch: 20 \tloss: 0.055873\n",
            "\n",
            "Test loss: 0.0012, accuracy: 9877/10000 (99%)\n",
            "\n",
            "Epoch: 21 \tloss: 0.001618\n",
            "Epoch: 21 \tloss: 0.001964\n",
            "\n",
            "Test loss: 0.0012, accuracy: 9880/10000 (99%)\n",
            "\n",
            "Epoch: 22 \tloss: 0.154061\n",
            "Epoch: 22 \tloss: 0.000765\n",
            "\n",
            "Test loss: 0.0011, accuracy: 9894/10000 (99%)\n",
            "\n",
            "Epoch: 23 \tloss: 0.000827\n",
            "Epoch: 23 \tloss: 0.030629\n",
            "\n",
            "Test loss: 0.0010, accuracy: 9901/10000 (99%)\n",
            "\n",
            "Epoch: 24 \tloss: 0.000408\n",
            "\n",
            "Test loss: 0.0010, accuracy: 9891/10000 (99%)\n",
            "\n",
            "Epoch: 25 \tloss: 0.042580\n",
            "Epoch: 25 \tloss: 0.002479\n",
            "\n",
            "Test loss: 0.0011, accuracy: 9894/10000 (99%)\n",
            "\n",
            "Epoch: 26 \tloss: 0.002241\n",
            "Epoch: 26 \tloss: 0.005000\n",
            "\n",
            "Test loss: 0.0011, accuracy: 9891/10000 (99%)\n",
            "\n",
            "Epoch: 27 \tloss: 0.004040\n",
            "Epoch: 27 \tloss: 0.022929\n",
            "\n",
            "Test loss: 0.0010, accuracy: 9896/10000 (99%)\n",
            "\n",
            "Epoch: 28 \tloss: 0.067801\n",
            "Epoch: 28 \tloss: 0.004801\n",
            "\n",
            "Test loss: 0.0011, accuracy: 9882/10000 (99%)\n",
            "\n",
            "Epoch: 29 \tloss: 0.287876\n",
            "Epoch: 29 \tloss: 0.000505\n",
            "\n",
            "Test loss: 0.0012, accuracy: 9882/10000 (99%)\n",
            "\n",
            "Epoch: 30 \tloss: 0.000360\n",
            "Epoch: 30 \tloss: 0.000375\n",
            "\n",
            "Test loss: 0.0010, accuracy: 9891/10000 (99%)\n",
            "\n",
            "Epoch: 31 \tloss: 0.013540\n",
            "Epoch: 31 \tloss: 0.000689\n",
            "\n",
            "Test loss: 0.0012, accuracy: 9895/10000 (99%)\n",
            "\n",
            "Epoch: 32 \tloss: 0.006116\n",
            "\n",
            "Test loss: 0.0010, accuracy: 9896/10000 (99%)\n",
            "\n",
            "Epoch: 33 \tloss: 0.026954\n",
            "Epoch: 33 \tloss: 0.005660\n",
            "\n",
            "Test loss: 0.0010, accuracy: 9903/10000 (99%)\n",
            "\n",
            "Epoch: 34 \tloss: 0.001909\n",
            "Epoch: 34 \tloss: 0.011599\n",
            "\n",
            "Test loss: 0.0013, accuracy: 9872/10000 (99%)\n",
            "\n",
            "Epoch: 35 \tloss: 0.014058\n",
            "Epoch: 35 \tloss: 0.004532\n",
            "\n",
            "Test loss: 0.0013, accuracy: 9864/10000 (99%)\n",
            "\n",
            "Epoch: 36 \tloss: 0.006830\n",
            "Epoch: 36 \tloss: 0.000582\n",
            "\n",
            "Test loss: 0.0010, accuracy: 9895/10000 (99%)\n",
            "\n",
            "Epoch: 37 \tloss: 0.000361\n",
            "Epoch: 37 \tloss: 0.035649\n",
            "\n",
            "Test loss: 0.0010, accuracy: 9904/10000 (99%)\n",
            "\n",
            "Epoch: 38 \tloss: 0.006138\n",
            "Epoch: 38 \tloss: 0.002142\n",
            "\n",
            "Test loss: 0.0010, accuracy: 9907/10000 (99%)\n",
            "\n",
            "Epoch: 39 \tloss: 0.000629\n",
            "Epoch: 39 \tloss: 0.000347\n",
            "\n",
            "Test loss: 0.0011, accuracy: 9897/10000 (99%)\n",
            "\n",
            "Epoch: 40 \tloss: 0.001281\n",
            "\n",
            "Test loss: 0.0011, accuracy: 9891/10000 (99%)\n",
            "\n",
            "Epoch: 41 \tloss: 0.000680\n",
            "Epoch: 41 \tloss: 0.026650\n",
            "\n",
            "Test loss: 0.0012, accuracy: 9894/10000 (99%)\n",
            "\n",
            "Epoch: 42 \tloss: 0.000060\n",
            "Epoch: 42 \tloss: 0.078007\n",
            "\n",
            "Test loss: 0.0011, accuracy: 9894/10000 (99%)\n",
            "\n",
            "Epoch: 43 \tloss: 0.001097\n",
            "Epoch: 43 \tloss: 0.004565\n",
            "\n",
            "Test loss: 0.0013, accuracy: 9884/10000 (99%)\n",
            "\n",
            "Epoch: 44 \tloss: 0.002445\n",
            "Epoch: 44 \tloss: 0.001513\n",
            "\n",
            "Test loss: 0.0011, accuracy: 9889/10000 (99%)\n",
            "\n",
            "Epoch: 45 \tloss: 0.001403\n",
            "Epoch: 45 \tloss: 0.005233\n",
            "\n",
            "Test loss: 0.0012, accuracy: 9889/10000 (99%)\n",
            "\n",
            "Epoch: 46 \tloss: 0.015819\n",
            "Epoch: 46 \tloss: 0.000386\n",
            "\n",
            "Test loss: 0.0012, accuracy: 9897/10000 (99%)\n",
            "\n",
            "Epoch: 47 \tloss: 0.008140\n",
            "Epoch: 47 \tloss: 0.013803\n",
            "\n",
            "Test loss: 0.0011, accuracy: 9898/10000 (99%)\n",
            "\n",
            "Epoch: 48 \tloss: 0.000037\n",
            "\n",
            "Test loss: 0.0012, accuracy: 9895/10000 (99%)\n",
            "\n",
            "Epoch: 49 \tloss: 0.015617\n",
            "Epoch: 49 \tloss: 0.059206\n",
            "\n",
            "Test loss: 0.0011, accuracy: 9898/10000 (99%)\n",
            "\n",
            "Epoch: 50 \tloss: 0.011600\n",
            "Epoch: 50 \tloss: 0.000982\n",
            "\n",
            "Test loss: 0.0011, accuracy: 9899/10000 (99%)\n",
            "\n"
          ],
          "name": "stdout"
        }
      ]
    },
    {
      "cell_type": "markdown",
      "metadata": {
        "id": "tebNSag-_OW5",
        "colab_type": "text"
      },
      "source": [
        "## Save model"
      ]
    },
    {
      "cell_type": "code",
      "metadata": {
        "id": "AFnZaqCf_WCv",
        "colab_type": "code",
        "colab": {}
      },
      "source": [
        "def save_checkpoint(checkpoint_path, model, optimizer):\n",
        "    '''\n",
        "      state_dict: a Python dictionary object that:\n",
        "       - for a model, maps each layer to its parameter tensor;\n",
        "       - for an optimizer, contains info about the optimizer’s states and hyperparameters used.\n",
        "    '''\n",
        "    state = {\n",
        "        'state_dict': model.state_dict(),\n",
        "        'optimizer' : optimizer.state_dict()}\n",
        "    torch.save(state, checkpoint_path)\n",
        "    print('Model saved to {}'.format(checkpoint_path))\n",
        "    \n",
        "    \n",
        "def load_checkpoint(checkpoint_path, model, optimizer):\n",
        "    state = torch.load(checkpoint_path)\n",
        "    model.load_state_dict(state['state_dict'])\n",
        "    optimizer.load_state_dict(state['optimizer'])\n",
        "    print('Model loaded from {}'.format(checkpoint_path))"
      ],
      "execution_count": 0,
      "outputs": []
    },
    {
      "cell_type": "markdown",
      "metadata": {
        "id": "xYTyYswu_XUX",
        "colab_type": "text"
      },
      "source": [
        "## Fine-tune a model"
      ]
    },
    {
      "cell_type": "code",
      "metadata": {
        "id": "DK46kJpQ_dEg",
        "colab_type": "code",
        "colab": {}
      },
      "source": [
        ""
      ],
      "execution_count": 0,
      "outputs": []
    }
  ]
}