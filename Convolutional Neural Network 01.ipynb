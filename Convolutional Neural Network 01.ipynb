{
  "nbformat": 4,
  "nbformat_minor": 0,
  "metadata": {
    "colab": {
      "name": "Convolutional Neural Network 01.ipynb",
      "version": "0.3.2",
      "provenance": [],
      "collapsed_sections": [],
      "include_colab_link": true
    },
    "kernelspec": {
      "name": "python3",
      "display_name": "Python 3"
    },
    "accelerator": "GPU"
  },
  "cells": [
    {
      "cell_type": "markdown",
      "metadata": {
        "id": "view-in-github",
        "colab_type": "text"
      },
      "source": [
        "<a href=\"https://colab.research.google.com/github/shebogholo/pytorch/blob/master/Convolutional%20Neural%20Network%2001.ipynb\" target=\"_parent\"><img src=\"https://colab.research.google.com/assets/colab-badge.svg\" alt=\"Open In Colab\"/></a>"
      ]
    },
    {
      "cell_type": "markdown",
      "metadata": {
        "id": "xVDx9tH0-oVO",
        "colab_type": "text"
      },
      "source": [
        "## Import libraries"
      ]
    },
    {
      "cell_type": "code",
      "metadata": {
        "id": "aW9Tfm_2-tHf",
        "colab_type": "code",
        "colab": {}
      },
      "source": [
        "import os\n",
        "import glob\n",
        "import torch\n",
        "import numpy as np\n",
        "import torchvision\n",
        "from PIL import Image\n",
        "import torch.nn as nn\n",
        "import os.path as path\n",
        "import torch.optim as optim\n",
        "import matplotlib.pyplot as plt\n",
        "import torch.nn.functional as F\n",
        "import torchvision.transforms as transform\n",
        "from torch.utils.data import Dataset, DataLoader\n",
        "import warnings\n",
        "warnings.filterwarnings('ignore')"
      ],
      "execution_count": 0,
      "outputs": []
    },
    {
      "cell_type": "markdown",
      "metadata": {
        "id": "XKw4WWkV-xu9",
        "colab_type": "text"
      },
      "source": [
        "## Hyperparameters"
      ]
    },
    {
      "cell_type": "code",
      "metadata": {
        "id": "fEvzf9WP-wBY",
        "colab_type": "code",
        "colab": {}
      },
      "source": [
        "seed = 123\n",
        "num_epochs = 5\n",
        "batch_size = 32\n",
        "log_interval = 1000\n",
        "learning_rate = 0.001\n",
        "checkpoint_path = 'model.pth'\n",
        "\n",
        "torch.manual_seed(seed)\n",
        "np.random.seed(seed)"
      ],
      "execution_count": 0,
      "outputs": []
    },
    {
      "cell_type": "markdown",
      "metadata": {
        "id": "Wl0NRceK98Qu",
        "colab_type": "text"
      },
      "source": [
        "## Custom Dataset"
      ]
    },
    {
      "cell_type": "code",
      "metadata": {
        "id": "4Y4EsEBn9aSY",
        "colab_type": "code",
        "colab": {}
      },
      "source": [
        "# Download MNIST png data\n",
        "!wget -q https://github.com/myleott/mnist_png/blob/master/mnist_png.tar.gz?raw=true\n",
        "!mv mnist_png.tar.gz?raw=true mnist_png.tar.gz\n",
        "!tar -xzf mnist_png.tar.gz"
      ],
      "execution_count": 0,
      "outputs": []
    },
    {
      "cell_type": "code",
      "metadata": {
        "id": "Qbx7K0UYwad-",
        "colab_type": "code",
        "colab": {}
      },
      "source": [
        "# Define custom dataset class\n",
        "class MNIST(Dataset):\n",
        "  def __init__(self, root, transform=None):\n",
        "    self.images = None\n",
        "    self.labels = None\n",
        "    self.root = root\n",
        "    self.transform = transform\n",
        "    self.filenames = []\n",
        "\n",
        "    # read filenames\n",
        "    for label in range(10):\n",
        "      filenames = glob.glob(os.path.join(root, str(label), '*.png'))\n",
        "      for filename in filenames:\n",
        "        self.filenames.append((filename, label))\n",
        "\n",
        "\n",
        "  def __getitem__(self, index):\n",
        "    # load data from image list\n",
        "    image, label = self.filenames[index]\n",
        "    image = Image.open(image)\n",
        "\n",
        "    if self.transform is not None:\n",
        "      image = self.transform(image)\n",
        "    # return image and label\n",
        "    return image, label\n",
        "  \n",
        "\n",
        "  # total number of samples in the dataset\n",
        "  def __len__(self):\n",
        "    return len(self.filenames)"
      ],
      "execution_count": 0,
      "outputs": []
    },
    {
      "cell_type": "code",
      "metadata": {
        "id": "eZXhTj_HzzoO",
        "colab_type": "code",
        "colab": {}
      },
      "source": [
        "'''\n",
        "Create instances of Custom dataset class for training and test data \n",
        "Convert all the images to Tensor (Transformation)\n",
        "'''\n",
        "trainset = MNIST(root='mnist_png/training', transform=transform.ToTensor())\n",
        "testset  = MNIST(root='mnist_png/testing', transform=transform.ToTensor())"
      ],
      "execution_count": 0,
      "outputs": []
    },
    {
      "cell_type": "markdown",
      "metadata": {
        "id": "qGYsMDp_-G6w",
        "colab_type": "text"
      },
      "source": [
        "## DataLoader"
      ]
    },
    {
      "cell_type": "code",
      "metadata": {
        "id": "4t5yNF6Y4Zbt",
        "colab_type": "code",
        "colab": {
          "base_uri": "https://localhost:8080/",
          "height": 54
        },
        "outputId": "b24770aa-9608-40e4-e432-15f816e93e52"
      },
      "source": [
        "train_loader = DataLoader(trainset, batch_size=batch_size, shuffle=True, num_workers=1)\n",
        "test_loader  = DataLoader(testset,  batch_size=batch_size, shuffle=False, num_workers=1)\n",
        "print('Train data: ',len(trainset))\n",
        "print('Test  data: ',len(testset))"
      ],
      "execution_count": 44,
      "outputs": [
        {
          "output_type": "stream",
          "text": [
            "Train data:  60000\n",
            "Test  data:  10000\n"
          ],
          "name": "stdout"
        }
      ]
    },
    {
      "cell_type": "markdown",
      "metadata": {
        "id": "RotvMoNL-S37",
        "colab_type": "text"
      },
      "source": [
        "## Visualize dataset"
      ]
    },
    {
      "cell_type": "code",
      "metadata": {
        "id": "tKTzbnLB17IX",
        "colab_type": "code",
        "colab": {
          "base_uri": "https://localhost:8080/",
          "height": 220
        },
        "outputId": "d58ccaba-a922-4a68-df73-ba22d733b730"
      },
      "source": [
        "# function to show an image\n",
        "def show_image(image):\n",
        "  image = image.numpy()\n",
        "  plt.imshow(np.transpose(image, (1, 2, 0)))\n",
        "\n",
        "# get random training images\n",
        "images, labels = iter(train_loader).next()\n",
        "show_image(torchvision.utils.make_grid(images))"
      ],
      "execution_count": 45,
      "outputs": [
        {
          "output_type": "display_data",
          "data": {
            "image/png": "[encoded data removed]",
            "text/plain": [
              "<Figure size 432x288 with 1 Axes>"
            ]
          },
          "metadata": {
            "tags": []
          }
        }
      ]
    },
    {
      "cell_type": "code",
      "metadata": {
        "id": "6SNXfGZS5JUf",
        "colab_type": "code",
        "outputId": "ac6bbde7-fd4e-4a6a-defb-91bf0e7d3d3e",
        "colab": {
          "base_uri": "https://localhost:8080/",
          "height": 35
        }
      },
      "source": [
        "# check the available device\n",
        "device = torch.device('cuda' if torch.cuda.is_available() else 'cpu')\n",
        "print(device)"
      ],
      "execution_count": 46,
      "outputs": [
        {
          "output_type": "stream",
          "text": [
            "cuda\n"
          ],
          "name": "stdout"
        }
      ]
    },
    {
      "cell_type": "markdown",
      "metadata": {
        "id": "B6qyasXQ-hdg",
        "colab_type": "text"
      },
      "source": [
        "## Define a CNN"
      ]
    },
    {
      "cell_type": "code",
      "metadata": {
        "id": "lSL-LmTA8iTU",
        "colab_type": "code",
        "colab": {}
      },
      "source": [
        "class Network(nn.Module):\n",
        "    def __init__(self):\n",
        "        super(Network, self).__init__()\n",
        "        \n",
        "        # Conv2d(in_channels, out_channels, kernel_size, stride=1, padding=0, dilation=1, groups=1, bias=True, padding_mode='zeros')\n",
        "        self.conv1 = nn.Conv2d(1, 10, kernel_size=5)\n",
        "        self.conv2 = nn.Conv2d(10, 20, kernel_size=5)\n",
        "        \n",
        "        # Linear(in_features, out_features, bias=True)\n",
        "        self.fc1 = nn.Linear(320, 50)\n",
        "        self.fc2 = nn.Linear(50, 10)\n",
        "        \n",
        "        # MaxPool2d(kernel_size, stride=None, padding=0, dilation=1, return_indices=False, ceil_mode=False)\n",
        "        self.max_pool = nn.MaxPool2d(2)\n",
        "        # ReLU(inplace=False)\n",
        "        self.relu = nn.ReLU()\n",
        "\n",
        "    def forward(self, x):\n",
        "        x = self.relu(self.max_pool(self.conv1(x)))\n",
        "        x = self.relu(self.max_pool(self.conv2(x)))\n",
        "        x = x.view(-1, 320)\n",
        "        x = self.relu(self.fc1(x))\n",
        "        x = self.fc2(x)\n",
        "        return F.log_softmax(x, dim=1)\n",
        "\n",
        "model = Network().to(device)"
      ],
      "execution_count": 0,
      "outputs": []
    },
    {
      "cell_type": "markdown",
      "metadata": {
        "id": "DIkXN4nJ8x_6",
        "colab_type": "text"
      },
      "source": [
        "## Define Optimizer"
      ]
    },
    {
      "cell_type": "code",
      "metadata": {
        "id": "lVH5YubfD4Gs",
        "colab_type": "code",
        "colab": {}
      },
      "source": [
        "optimizer = optim.SGD(model.parameters(), lr=learning_rate, momentum=0.9)"
      ],
      "execution_count": 0,
      "outputs": []
    },
    {
      "cell_type": "markdown",
      "metadata": {
        "id": "_kGwY4XB822k",
        "colab_type": "text"
      },
      "source": [
        "## Define Loss function"
      ]
    },
    {
      "cell_type": "code",
      "metadata": {
        "id": "zyqiLFF886O0",
        "colab_type": "code",
        "colab": {}
      },
      "source": [
        "criterion = nn.NLLLoss()"
      ],
      "execution_count": 0,
      "outputs": []
    },
    {
      "cell_type": "markdown",
      "metadata": {
        "id": "0YW0OkDJ_LP_",
        "colab_type": "text"
      },
      "source": [
        "## Function to train a model"
      ]
    },
    {
      "cell_type": "code",
      "metadata": {
        "id": "0wFNd7kS_NUn",
        "colab_type": "code",
        "colab": {}
      },
      "source": [
        "def train(train_loader, epoch, log_interval):\n",
        "  for batch_idx, (data, target) in enumerate(train_loader):\n",
        "    # bring data to the computing device, e.g. GPU\n",
        "    data, target = data.to(device), target.to(device)\n",
        "    # forward pass\n",
        "    output = model(data)\n",
        "    # compute loss: negative log-likelihood\n",
        "    loss = criterion(output, target)\n",
        "    # backward pass\n",
        "    # clear the gradients of all tensors being optimized.\n",
        "    optimizer.zero_grad()\n",
        "    # accumulate (i.e. add) the gradients from this forward pass\n",
        "    loss.backward()\n",
        "    # performs a single optimization step (parameter update)\n",
        "    optimizer.step()\n",
        "    if batch_idx % log_interval == 0:\n",
        "      print('Epoch: {} \\tloss: {:.6f}'.format(epoch+1, loss.item()))"
      ],
      "execution_count": 0,
      "outputs": []
    },
    {
      "cell_type": "markdown",
      "metadata": {
        "id": "Mm53hBsBTTIC",
        "colab_type": "text"
      },
      "source": [
        "## Function to test a model"
      ]
    },
    {
      "cell_type": "code",
      "metadata": {
        "id": "tCHx5NboMBWM",
        "colab_type": "code",
        "colab": {}
      },
      "source": [
        "def test(test_loader):\n",
        "  model.eval()  # set evaluation mode\n",
        "  test_loss = 0\n",
        "  correct = 0\n",
        "  with torch.no_grad():\n",
        "    for _, (data, target) in enumerate(test_loader):\n",
        "      data, target = data.to(device), target.to(device)\n",
        "      output = model(data)\n",
        "      test_loss += criterion(output, target).item() # sum up batch loss\n",
        "      pred = output.max(1, keepdim=True)[1] # get the index of the max log-probability\n",
        "      correct += pred.eq(target.view_as(pred)).sum().item()\n",
        "    test_loss /= len(test_loader.dataset)\n",
        "    test_accuracy = 100. * correct / len(test_loader.dataset)\n",
        "    print('\\nTest loss: {:.4f}, accuracy: {}/{} ({:.0f}%)'.format(test_loss, correct, len(test_loader.dataset), test_accuracy))\n",
        "    return test_loss, test_accuracy"
      ],
      "execution_count": 0,
      "outputs": []
    },
    {
      "cell_type": "markdown",
      "metadata": {
        "id": "Z_tUOkIFTV-n",
        "colab_type": "text"
      },
      "source": [
        "## Function to save a model"
      ]
    },
    {
      "cell_type": "code",
      "metadata": {
        "id": "gdVB5A9uPkKW",
        "colab_type": "code",
        "colab": {}
      },
      "source": [
        "def save_checkpoint(checkpoint_path, model, optimizer, best_score):\n",
        "    state = {\n",
        "        'state_dict': model.state_dict(),\n",
        "        'optimizer' : optimizer.state_dict(),\n",
        "        'accuracy': best_score}\n",
        "    torch.save(state, checkpoint_path)\n",
        "    print('\\nSaved a model with best score of {} to {}\\n'.format(best_score, checkpoint_path))"
      ],
      "execution_count": 0,
      "outputs": []
    },
    {
      "cell_type": "markdown",
      "metadata": {
        "id": "VaKq6hgJTcBF",
        "colab_type": "text"
      },
      "source": [
        "## Train and save best model"
      ]
    },
    {
      "cell_type": "code",
      "metadata": {
        "id": "bleGtnfhACvu",
        "colab_type": "code",
        "colab": {}
      },
      "source": [
        "def fit(num_epochs, train_loader, test_loader, log_interval):\n",
        "  best_score = 0.0\n",
        "  for epoch in range(num_epochs):\n",
        "    train(train_loader, epoch, log_interval)\n",
        "    _, accuracy = test(test_loader)\n",
        "    if accuracy > best_score:\n",
        "      best_score = accuracy\n",
        "      save_checkpoint(checkpoint_path, model, optimizer, best_score)\n",
        "\n",
        "fit(num_epochs, train_loader, test_loader, log_interval)"
      ],
      "execution_count": 0,
      "outputs": []
    },
    {
      "cell_type": "markdown",
      "metadata": {
        "id": "tebNSag-_OW5",
        "colab_type": "text"
      },
      "source": [
        "## Load model"
      ]
    },
    {
      "cell_type": "code",
      "metadata": {
        "id": "AFnZaqCf_WCv",
        "colab_type": "code",
        "colab": {
          "base_uri": "https://localhost:8080/",
          "height": 35
        },
        "outputId": "d2395c37-6081-4fa7-c6d1-d8fc0a496799"
      },
      "source": [
        "def load_checkpoint(checkpoint_path):\n",
        "    state = torch.load(checkpoint_path)\n",
        "    model.load_state_dict(state['state_dict'])\n",
        "    optimizer.load_state_dict(state['optimizer'])\n",
        "    accuracy = state['accuracy']\n",
        "    print('Loaded a model with accuracy of {:.1f}% from {}'.format(accuracy, checkpoint_path))\n",
        "    return model\n",
        "\n",
        "loaded_model = load_checkpoint(checkpoint_path)"
      ],
      "execution_count": 78,
      "outputs": [
        {
          "output_type": "stream",
          "text": [
            "Loaded a model with accuracy of 98.7% from model.pth\n"
          ],
          "name": "stdout"
        }
      ]
    },
    {
      "cell_type": "markdown",
      "metadata": {
        "id": "4s5KBFViSdfZ",
        "colab_type": "text"
      },
      "source": [
        "## Test loaded model"
      ]
    },
    {
      "cell_type": "code",
      "metadata": {
        "id": "vyDe_jqsSgJo",
        "colab_type": "code",
        "colab": {
          "base_uri": "https://localhost:8080/",
          "height": 54
        },
        "outputId": "29ad9675-b589-4b9d-ca73-47d6024c4add"
      },
      "source": [
        "loaded_model.eval()\n",
        "test_loss = 0\n",
        "correct = 0\n",
        "with torch.no_grad():\n",
        "  for _, (data, target) in enumerate(test_loader):\n",
        "    data, target = data.to(device), target.to(device)\n",
        "    output = loaded_model(data)\n",
        "    test_loss += criterion(output, target).item()\n",
        "    pred = output.max(1, keepdim=True)[1]\n",
        "    correct += pred.eq(target.view_as(pred)).sum().item()\n",
        "  test_loss /= len(test_loader.dataset)\n",
        "  test_accuracy = 100. * correct / len(test_loader.dataset)\n",
        "  print('\\nTest loss: {:.4f}, accuracy: {}/{} ({:.0f}%)'.format(test_loss, correct, len(test_loader.dataset), test_accuracy))"
      ],
      "execution_count": 77,
      "outputs": [
        {
          "output_type": "stream",
          "text": [
            "\n",
            "Test loss: 0.0012, accuracy: 9872/10000 (99%)\n"
          ],
          "name": "stdout"
        }
      ]
    }
  ]
}