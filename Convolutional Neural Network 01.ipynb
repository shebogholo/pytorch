{
  "nbformat": 4,
  "nbformat_minor": 0,
  "metadata": {
    "colab": {
      "name": "Convolutional Neural Network 01.ipynb",
      "version": "0.3.2",
      "provenance": [],
      "collapsed_sections": [],
      "toc_visible": true,
      "include_colab_link": true
    },
    "kernelspec": {
      "name": "python3",
      "display_name": "Python 3"
    },
    "accelerator": "GPU"
  },
  "cells": [
    {
      "cell_type": "markdown",
      "metadata": {
        "id": "view-in-github",
        "colab_type": "text"
      },
      "source": [
        "<a href=\"https://colab.research.google.com/github/shebogholo/pytorch/blob/master/Convolutional%20Neural%20Network%2001.ipynb\" target=\"_parent\"><img src=\"https://colab.research.google.com/assets/colab-badge.svg\" alt=\"Open In Colab\"/></a>"
      ]
    },
    {
      "cell_type": "markdown",
      "metadata": {
        "id": "xVDx9tH0-oVO",
        "colab_type": "text"
      },
      "source": [
        "## Import libraries"
      ]
    },
    {
      "cell_type": "code",
      "metadata": {
        "id": "aW9Tfm_2-tHf",
        "colab_type": "code",
        "colab": {}
      },
      "source": [
        "import os\n",
        "import glob\n",
        "import torch\n",
        "import numpy as np\n",
        "import torchvision\n",
        "from PIL import Image\n",
        "import torch.nn as nn\n",
        "import os.path as path\n",
        "import torch.optim as optim\n",
        "import matplotlib.pyplot as plt\n",
        "import torch.nn.functional as F\n",
        "import torchvision.transforms as transform\n",
        "from torch.utils.data import SubsetRandomSampler\n",
        "from torch.utils.data import Dataset, DataLoader\n",
        "import warnings\n",
        "warnings.filterwarnings('ignore')"
      ],
      "execution_count": 0,
      "outputs": []
    },
    {
      "cell_type": "markdown",
      "metadata": {
        "id": "XKw4WWkV-xu9",
        "colab_type": "text"
      },
      "source": [
        "## Hyperparameters"
      ]
    },
    {
      "cell_type": "code",
      "metadata": {
        "id": "fEvzf9WP-wBY",
        "colab_type": "code",
        "colab": {}
      },
      "source": [
        "seed = 123\n",
        "num_epochs = 30\n",
        "batch_size = 32\n",
        "valid_size = 0.1\n",
        "num_workers = 1\n",
        "log_interval = 1000\n",
        "learning_rate = 0.001\n",
        "checkpoint_path = 'model.pth'\n",
        "\n",
        "np.random.seed(seed)\n",
        "torch.manual_seed(seed)\n",
        "torch.cuda.manual_seed(seed)"
      ],
      "execution_count": 0,
      "outputs": []
    },
    {
      "cell_type": "markdown",
      "metadata": {
        "id": "Wl0NRceK98Qu",
        "colab_type": "text"
      },
      "source": [
        "## Custom Dataset"
      ]
    },
    {
      "cell_type": "code",
      "metadata": {
        "id": "4Y4EsEBn9aSY",
        "colab_type": "code",
        "colab": {}
      },
      "source": [
        "# Download MNIST png data\n",
        "!wget -q https://github.com/myleott/mnist_png/blob/master/mnist_png.tar.gz?raw=true\n",
        "!mv mnist_png.tar.gz?raw=true mnist_png.tar.gz\n",
        "!tar -xzf mnist_png.tar.gz"
      ],
      "execution_count": 0,
      "outputs": []
    },
    {
      "cell_type": "code",
      "metadata": {
        "id": "Qbx7K0UYwad-",
        "colab_type": "code",
        "colab": {}
      },
      "source": [
        "# Define custom dataset class\n",
        "class MNIST(Dataset):\n",
        "  def __init__(self, root, transform=None):\n",
        "    self.images = None\n",
        "    self.labels = None\n",
        "    self.root = root\n",
        "    self.transform = transform\n",
        "    self.filenames = []\n",
        "\n",
        "    # read filenames\n",
        "    for label in range(10):\n",
        "      filenames = glob.glob(os.path.join(root, str(label), '*.png'))\n",
        "      for filename in filenames:\n",
        "        self.filenames.append((filename, label))\n",
        "\n",
        "  def __getitem__(self, index):\n",
        "    # load data from image list\n",
        "    image, label = self.filenames[index]\n",
        "    image = Image.open(image)\n",
        "\n",
        "    if self.transform is not None:\n",
        "      image = self.transform(image)\n",
        "    # return image and label\n",
        "    return image, label\n",
        "  \n",
        "  # total number of samples in the dataset\n",
        "  def __len__(self):\n",
        "    return len(self.filenames)"
      ],
      "execution_count": 0,
      "outputs": []
    },
    {
      "cell_type": "code",
      "metadata": {
        "id": "eZXhTj_HzzoO",
        "colab_type": "code",
        "outputId": "8d02f593-819f-41d7-f915-04511682f12f",
        "colab": {
          "base_uri": "https://localhost:8080/",
          "height": 54
        }
      },
      "source": [
        "'''\n",
        "Create instances of Custom dataset class for training and test data \n",
        "Convert all the images to Tensor (Transformation)\n",
        "'''\n",
        "train_data = MNIST(root='mnist_png/training', transform=transform.ToTensor())\n",
        "test_data  = MNIST(root='mnist_png/testing', transform=transform.ToTensor())\n",
        "print(len(train_data))\n",
        "print(len(test_data))"
      ],
      "execution_count": 5,
      "outputs": [
        {
          "output_type": "stream",
          "text": [
            "60000\n",
            "10000\n"
          ],
          "name": "stdout"
        }
      ]
    },
    {
      "cell_type": "markdown",
      "metadata": {
        "id": "9N7QMo6gaAhg",
        "colab_type": "text"
      },
      "source": [
        "## Split data"
      ]
    },
    {
      "cell_type": "code",
      "metadata": {
        "id": "e9eo18vPaDWA",
        "colab_type": "code",
        "colab": {}
      },
      "source": [
        "def split_data(train_data, test_data=None, batch_size=20, valid_size=.1, sampler = SubsetRandomSampler):\n",
        "  num_train = len(train_data)\n",
        "  indices = list(range(num_train))\n",
        "  np.random.shuffle(indices)\n",
        "  split = int(np.floor(valid_size * num_train))\n",
        "  train_idx, valid_idx = indices[split:], indices[:split]\n",
        "  train_sampler = sampler(train_idx)\n",
        "  valid_sampler = sampler(valid_idx)\n",
        "  if test_data is not None:\n",
        "    test_loader = DataLoader(test_data, batch_size, num_workers)\n",
        "\n",
        "  else :\n",
        "    train_idx, test_idx = train_idx[split:], train_idx[:split]\n",
        "    train_sampler = sampler(train_idx)\n",
        "    test_sampler  = sampler(test_idx)\n",
        "    test_loader = DataLoader(test_data, batch_size, test_sampler, num_workers, shuffle=False)\n",
        "\n",
        "  train_loader = DataLoader(train_data, batch_size=batch_size, shuffle=False, sampler=train_sampler, num_workers=num_workers)\n",
        "  valid_loader = DataLoader(train_data, batch_size=batch_size, shuffle=False, sampler=valid_sampler, num_workers=num_workers)\n",
        "  return train_loader, valid_loader, test_loader"
      ],
      "execution_count": 0,
      "outputs": []
    },
    {
      "cell_type": "markdown",
      "metadata": {
        "id": "Hp-lDJCCa_7G",
        "colab_type": "text"
      },
      "source": [
        "## Data Loaders"
      ]
    },
    {
      "cell_type": "code",
      "metadata": {
        "id": "1PHr62DwaaoE",
        "colab_type": "code",
        "outputId": "dd6eb225-4712-4220-94b0-1b3b46ad3f5d",
        "colab": {
          "base_uri": "https://localhost:8080/",
          "height": 35
        }
      },
      "source": [
        "train_loader, valid_loader, test_loader = split_data(train_data, test_data, batch_size)\n",
        "len(train_loader), len(valid_loader), len(test_loader)"
      ],
      "execution_count": 7,
      "outputs": [
        {
          "output_type": "execute_result",
          "data": {
            "text/plain": [
              "(1688, 188, 313)"
            ]
          },
          "metadata": {
            "tags": []
          },
          "execution_count": 7
        }
      ]
    },
    {
      "cell_type": "markdown",
      "metadata": {
        "colab_type": "text",
        "id": "5aNBPjLuDKxF"
      },
      "source": [
        "## Visualize dataset"
      ]
    },
    {
      "cell_type": "code",
      "metadata": {
        "id": "tKTzbnLB17IX",
        "colab_type": "code",
        "outputId": "9f078ad5-851d-46e0-9d67-f16b5feae10a",
        "colab": {
          "base_uri": "https://localhost:8080/",
          "height": 220
        }
      },
      "source": [
        "# function to show an image\n",
        "def show_image(image):\n",
        "  image = image.numpy()\n",
        "  plt.imshow(np.transpose(image, (1, 2, 0)))\n",
        "\n",
        "# get random training images\n",
        "images, labels = next(iter(test_loader))\n",
        "show_image(torchvision.utils.make_grid(images))"
      ],
      "execution_count": 8,
      "outputs": [
        {
          "output_type": "display_data",
          "data": {
            "image/png": "[encoded data removed]",
            "text/plain": [
              "<Figure size 432x288 with 1 Axes>"
            ]
          },
          "metadata": {
            "tags": []
          }
        }
      ]
    },
    {
      "cell_type": "code",
      "metadata": {
        "id": "6SNXfGZS5JUf",
        "colab_type": "code",
        "outputId": "75b7deb5-20ce-43d4-dd04-f10522c91cb6",
        "colab": {
          "base_uri": "https://localhost:8080/",
          "height": 35
        }
      },
      "source": [
        "# check the available device\n",
        "device = torch.device('cuda' if torch.cuda.is_available() else 'cpu')\n",
        "print(device)"
      ],
      "execution_count": 9,
      "outputs": [
        {
          "output_type": "stream",
          "text": [
            "cuda\n"
          ],
          "name": "stdout"
        }
      ]
    },
    {
      "cell_type": "markdown",
      "metadata": {
        "id": "B6qyasXQ-hdg",
        "colab_type": "text"
      },
      "source": [
        "## Define a CNN"
      ]
    },
    {
      "cell_type": "code",
      "metadata": {
        "id": "lSL-LmTA8iTU",
        "colab_type": "code",
        "colab": {}
      },
      "source": [
        "class Network(nn.Module):\n",
        "    def __init__(self):\n",
        "        super(Network, self).__init__()\n",
        "        \n",
        "        # Conv2d(in_channels, out_channels, kernel_size, stride=1, padding=0, dilation=1, groups=1, bias=True, padding_mode='zeros')\n",
        "        self.conv1 = nn.Conv2d(1, 10, kernel_size=5)\n",
        "        self.conv2 = nn.Conv2d(10, 20, kernel_size=5)\n",
        "        \n",
        "        # Linear(in_features, out_features, bias=True)\n",
        "        self.fc1 = nn.Linear(320, 50)\n",
        "        self.fc2 = nn.Linear(50, 10)\n",
        "        \n",
        "        # MaxPool2d(kernel_size, stride=None, padding=0, dilation=1, return_indices=False, ceil_mode=False)\n",
        "        self.max_pool = nn.MaxPool2d(2)\n",
        "        # ReLU(inplace=False)\n",
        "        self.relu = nn.ReLU()\n",
        "\n",
        "    def forward(self, x):\n",
        "        x = self.relu(self.max_pool(self.conv1(x)))\n",
        "        x = self.relu(self.max_pool(self.conv2(x)))\n",
        "        x = x.view(-1, 320)\n",
        "        x = self.relu(self.fc1(x))\n",
        "        x = self.fc2(x)\n",
        "        return F.log_softmax(x, dim=1)\n",
        "\n",
        "model = Network().to(device)"
      ],
      "execution_count": 0,
      "outputs": []
    },
    {
      "cell_type": "markdown",
      "metadata": {
        "id": "DIkXN4nJ8x_6",
        "colab_type": "text"
      },
      "source": [
        "## Define Optimizer"
      ]
    },
    {
      "cell_type": "code",
      "metadata": {
        "id": "lVH5YubfD4Gs",
        "colab_type": "code",
        "colab": {}
      },
      "source": [
        "optimizer = optim.SGD(model.parameters(), lr=learning_rate, momentum=0.9)"
      ],
      "execution_count": 0,
      "outputs": []
    },
    {
      "cell_type": "markdown",
      "metadata": {
        "id": "_kGwY4XB822k",
        "colab_type": "text"
      },
      "source": [
        "## Define Loss function"
      ]
    },
    {
      "cell_type": "code",
      "metadata": {
        "id": "zyqiLFF886O0",
        "colab_type": "code",
        "colab": {}
      },
      "source": [
        "criterion = nn.NLLLoss()"
      ],
      "execution_count": 0,
      "outputs": []
    },
    {
      "cell_type": "markdown",
      "metadata": {
        "id": "0YW0OkDJ_LP_",
        "colab_type": "text"
      },
      "source": [
        "## Function to train a model"
      ]
    },
    {
      "cell_type": "code",
      "metadata": {
        "id": "0wFNd7kS_NUn",
        "colab_type": "code",
        "colab": {}
      },
      "source": [
        "def train(train_loader, epoch, log_interval):\n",
        "  for batch_idx, (data, target) in enumerate(train_loader):\n",
        "    # bring data to the computing device, e.g. GPU\n",
        "    data, target = data.to(device), target.to(device)\n",
        "    # forward pass\n",
        "    output = model(data)\n",
        "    # compute loss: negative log-likelihood\n",
        "    loss = criterion(output, target)\n",
        "    # backward pass\n",
        "    # clear the gradients of all tensors being optimized.\n",
        "    optimizer.zero_grad()\n",
        "    # accumulate (i.e. add) the gradients from this forward pass\n",
        "    loss.backward()\n",
        "    # performs a single optimization step (parameter update)\n",
        "    optimizer.step()\n",
        "    if batch_idx % log_interval == 0:\n",
        "      print('Epoch: {} \\tloss: {:.6f}'.format(epoch+1, loss.item()))\n",
        "  return model"
      ],
      "execution_count": 0,
      "outputs": []
    },
    {
      "cell_type": "markdown",
      "metadata": {
        "id": "Mm53hBsBTTIC",
        "colab_type": "text"
      },
      "source": [
        "## Function to validate a model"
      ]
    },
    {
      "cell_type": "code",
      "metadata": {
        "id": "tCHx5NboMBWM",
        "colab_type": "code",
        "colab": {}
      },
      "source": [
        "def evaluate(model, valid_loader):\n",
        "  model.eval()  \n",
        "  valid_loss = 0.0\n",
        "  total = 0\n",
        "  correct = 0\n",
        "  with torch.no_grad():\n",
        "    for _, (data, target) in enumerate(valid_loader):\n",
        "      data, target = data.to(device), target.to(device)\n",
        "      output = model(data)\n",
        "      loss = criterion(output, target) # sum up batch loss\n",
        "      total += len(target)\n",
        "      predicted = torch.max(output.data, 1)[1]\n",
        "      correct += (target == predicted).sum() \n",
        "      valid_loss += loss.item() * data.size(0)\n",
        "  valid_loss = valid_loss / len(valid_loader.dataset)\n",
        "  valid_accuracy = 100. * correct / float(total)\n",
        "  print('\\nValidation loss: {:.4f}, accuracy: {:.0f}%'.format(valid_loss, valid_accuracy))\n",
        "  return valid_loss, valid_accuracy"
      ],
      "execution_count": 0,
      "outputs": []
    },
    {
      "cell_type": "markdown",
      "metadata": {
        "id": "Z_tUOkIFTV-n",
        "colab_type": "text"
      },
      "source": [
        "## Function to save a model"
      ]
    },
    {
      "cell_type": "code",
      "metadata": {
        "id": "gdVB5A9uPkKW",
        "colab_type": "code",
        "colab": {}
      },
      "source": [
        "def save_checkpoint(checkpoint_path, model, optimizer, best_score):\n",
        "  state = {\n",
        "      'state_dict': model.state_dict(),\n",
        "      'optimizer' : optimizer.state_dict(),\n",
        "      'accuracy': best_score}\n",
        "  torch.save(state, checkpoint_path)\n",
        "  print('Saved a model with best score of {:.2f} to \\'{}\\'\\n'.format(best_score, checkpoint_path))"
      ],
      "execution_count": 0,
      "outputs": []
    },
    {
      "cell_type": "markdown",
      "metadata": {
        "id": "VaKq6hgJTcBF",
        "colab_type": "text"
      },
      "source": [
        "## Train and save best model"
      ]
    },
    {
      "cell_type": "code",
      "metadata": {
        "id": "bleGtnfhACvu",
        "colab_type": "code",
        "outputId": "b3942dff-a2d6-4873-fb0e-d2507fde96d3",
        "colab": {
          "base_uri": "https://localhost:8080/",
          "height": 1000
        }
      },
      "source": [
        "def fit(num_epochs, train_loader, valid_loader, log_interval):\n",
        "  best_score = 0.0\n",
        "  for epoch in range(num_epochs):\n",
        "    model = train(train_loader, epoch, log_interval)\n",
        "    _, accuracy = evaluate(model, valid_loader)\n",
        "    if accuracy > best_score:\n",
        "      best_score = accuracy\n",
        "      save_checkpoint(checkpoint_path, model, optimizer, best_score)\n",
        "\n",
        "fit(num_epochs, train_loader, valid_loader, log_interval)"
      ],
      "execution_count": 16,
      "outputs": [
        {
          "output_type": "stream",
          "text": [
            "Epoch: 1 \tloss: 2.286008\n",
            "Epoch: 1 \tloss: 0.524164\n",
            "\n",
            "Validation loss: 0.0294, accuracy: 91%\n",
            "Saved a model with best score of 91.00 to 'model.pth'\n",
            "\n",
            "Epoch: 2 \tloss: 0.159661\n",
            "Epoch: 2 \tloss: 0.075388\n",
            "\n",
            "Validation loss: 0.0173, accuracy: 94%\n",
            "Saved a model with best score of 94.00 to 'model.pth'\n",
            "\n",
            "Epoch: 3 \tloss: 0.224553\n",
            "Epoch: 3 \tloss: 0.178041\n",
            "\n",
            "Validation loss: 0.0133, accuracy: 96%\n",
            "Saved a model with best score of 96.00 to 'model.pth'\n",
            "\n",
            "Epoch: 4 \tloss: 0.390398\n",
            "Epoch: 4 \tloss: 0.279257\n",
            "\n",
            "Validation loss: 0.0133, accuracy: 96%\n",
            "Epoch: 5 \tloss: 0.050137\n",
            "Epoch: 5 \tloss: 0.118696\n",
            "\n",
            "Validation loss: 0.0099, accuracy: 97%\n",
            "Saved a model with best score of 97.00 to 'model.pth'\n",
            "\n",
            "Epoch: 6 \tloss: 0.072231\n",
            "Epoch: 6 \tloss: 0.133394\n",
            "\n",
            "Validation loss: 0.0095, accuracy: 97%\n",
            "Epoch: 7 \tloss: 0.055815\n",
            "Epoch: 7 \tloss: 0.169539\n",
            "\n",
            "Validation loss: 0.0092, accuracy: 97%\n",
            "Epoch: 8 \tloss: 0.161822\n",
            "Epoch: 8 \tloss: 0.051747\n",
            "\n",
            "Validation loss: 0.0091, accuracy: 97%\n",
            "Epoch: 9 \tloss: 0.029346\n",
            "Epoch: 9 \tloss: 0.082588\n",
            "\n",
            "Validation loss: 0.0077, accuracy: 97%\n",
            "Epoch: 10 \tloss: 0.005979\n",
            "Epoch: 10 \tloss: 0.086473\n",
            "\n",
            "Validation loss: 0.0084, accuracy: 97%\n",
            "Epoch: 11 \tloss: 0.096541\n",
            "Epoch: 11 \tloss: 0.027522\n",
            "\n",
            "Validation loss: 0.0075, accuracy: 98%\n",
            "Saved a model with best score of 98.00 to 'model.pth'\n",
            "\n",
            "Epoch: 12 \tloss: 0.047372\n",
            "Epoch: 12 \tloss: 0.134048\n",
            "\n",
            "Validation loss: 0.0068, accuracy: 98%\n",
            "Epoch: 13 \tloss: 0.016959\n",
            "Epoch: 13 \tloss: 0.212378\n",
            "\n",
            "Validation loss: 0.0069, accuracy: 98%\n",
            "Epoch: 14 \tloss: 0.007592\n",
            "Epoch: 14 \tloss: 0.001011\n",
            "\n",
            "Validation loss: 0.0074, accuracy: 97%\n",
            "Epoch: 15 \tloss: 0.032513\n",
            "Epoch: 15 \tloss: 0.015592\n",
            "\n",
            "Validation loss: 0.0065, accuracy: 98%\n",
            "Epoch: 16 \tloss: 0.063752\n",
            "Epoch: 16 \tloss: 0.002717\n",
            "\n",
            "Validation loss: 0.0067, accuracy: 98%\n",
            "Epoch: 17 \tloss: 0.004330\n",
            "Epoch: 17 \tloss: 0.041360\n",
            "\n",
            "Validation loss: 0.0070, accuracy: 98%\n",
            "Epoch: 18 \tloss: 0.017882\n",
            "Epoch: 18 \tloss: 0.017371\n",
            "\n",
            "Validation loss: 0.0066, accuracy: 98%\n",
            "Epoch: 19 \tloss: 0.000719\n",
            "Epoch: 19 \tloss: 0.002091\n",
            "\n",
            "Validation loss: 0.0068, accuracy: 98%\n",
            "Epoch: 20 \tloss: 0.075372\n",
            "Epoch: 20 \tloss: 0.000606\n",
            "\n",
            "Validation loss: 0.0066, accuracy: 98%\n",
            "Epoch: 21 \tloss: 0.000926\n",
            "Epoch: 21 \tloss: 0.004826\n",
            "\n",
            "Validation loss: 0.0068, accuracy: 98%\n",
            "Epoch: 22 \tloss: 0.002284\n",
            "Epoch: 22 \tloss: 0.000836\n",
            "\n",
            "Validation loss: 0.0065, accuracy: 98%\n",
            "Epoch: 23 \tloss: 0.001283\n",
            "Epoch: 23 \tloss: 0.001759\n",
            "\n",
            "Validation loss: 0.0062, accuracy: 98%\n",
            "Epoch: 24 \tloss: 0.001589\n",
            "Epoch: 24 \tloss: 0.000179\n",
            "\n",
            "Validation loss: 0.0073, accuracy: 98%\n",
            "Epoch: 25 \tloss: 0.156472\n",
            "Epoch: 25 \tloss: 0.002723\n",
            "\n",
            "Validation loss: 0.0062, accuracy: 98%\n",
            "Epoch: 26 \tloss: 0.030177\n",
            "Epoch: 26 \tloss: 0.072689\n",
            "\n",
            "Validation loss: 0.0063, accuracy: 98%\n",
            "Epoch: 27 \tloss: 0.003286\n",
            "Epoch: 27 \tloss: 0.001548\n",
            "\n",
            "Validation loss: 0.0064, accuracy: 98%\n",
            "Epoch: 28 \tloss: 0.004547\n",
            "Epoch: 28 \tloss: 0.000144\n",
            "\n",
            "Validation loss: 0.0064, accuracy: 98%\n",
            "Epoch: 29 \tloss: 0.000995\n",
            "Epoch: 29 \tloss: 0.015266\n",
            "\n",
            "Validation loss: 0.0072, accuracy: 98%\n",
            "Epoch: 30 \tloss: 0.001200\n",
            "Epoch: 30 \tloss: 0.018585\n",
            "\n",
            "Validation loss: 0.0066, accuracy: 98%\n"
          ],
          "name": "stdout"
        }
      ]
    },
    {
      "cell_type": "markdown",
      "metadata": {
        "id": "tebNSag-_OW5",
        "colab_type": "text"
      },
      "source": [
        "## Load model"
      ]
    },
    {
      "cell_type": "code",
      "metadata": {
        "id": "AFnZaqCf_WCv",
        "colab_type": "code",
        "outputId": "e1877cd4-274f-4e9d-9a51-e6e145a825b4",
        "colab": {
          "base_uri": "https://localhost:8080/",
          "height": 35
        }
      },
      "source": [
        "def load_checkpoint(checkpoint_path):\n",
        "    state = torch.load(checkpoint_path)\n",
        "    model.load_state_dict(state['state_dict'])\n",
        "    accuracy = state['accuracy']\n",
        "    print('Loaded a model with accuracy of {:.1f}% from {}'.format(accuracy, checkpoint_path))\n",
        "    return model\n",
        "\n",
        "loaded_model = load_checkpoint(checkpoint_path)"
      ],
      "execution_count": 17,
      "outputs": [
        {
          "output_type": "stream",
          "text": [
            "Loaded a model with accuracy of 98.0% from model.pth\n"
          ],
          "name": "stdout"
        }
      ]
    },
    {
      "cell_type": "markdown",
      "metadata": {
        "id": "4s5KBFViSdfZ",
        "colab_type": "text"
      },
      "source": [
        "## Test loaded model"
      ]
    },
    {
      "cell_type": "code",
      "metadata": {
        "id": "vyDe_jqsSgJo",
        "colab_type": "code",
        "outputId": "8de32759-776a-438d-8b21-dd13d2d5fc67",
        "colab": {
          "base_uri": "https://localhost:8080/",
          "height": 54
        }
      },
      "source": [
        "loaded_model.eval()\n",
        "test_loss = 0\n",
        "total = 0\n",
        "correct = 0\n",
        "with torch.no_grad():\n",
        "  for _, (data, target) in enumerate(test_loader):\n",
        "    data, target = data.to(device), target.to(device)\n",
        "    output = loaded_model(data)\n",
        "    test_loss += criterion(output, target).item()\n",
        "    pred = output.max(1, keepdim=True)[1]\n",
        "    total += target.size(0)\n",
        "    correct += pred.eq(target.view_as(pred)).sum().item()\n",
        "  test_loss /= len(test_loader.dataset)\n",
        "  test_accuracy = 100. * correct / total\n",
        "  print('\\nTest loss: {:.4f}, accuracy: {}/{} ({:.0f}%)'.format(test_loss, correct, total, test_accuracy))"
      ],
      "execution_count": 18,
      "outputs": [
        {
          "output_type": "stream",
          "text": [
            "\n",
            "Test loss: 0.0014, accuracy: 9848/10000 (98%)\n"
          ],
          "name": "stdout"
        }
      ]
    },
    {
      "cell_type": "markdown",
      "metadata": {
        "id": "XonusafmuXoX",
        "colab_type": "text"
      },
      "source": [
        "## Inference"
      ]
    },
    {
      "cell_type": "code",
      "metadata": {
        "id": "8JJt98gZ71G9",
        "colab_type": "code",
        "colab": {}
      },
      "source": [
        "def predict(inputs, topk=1):\n",
        "  model.eval()\n",
        "  model.to(device)\n",
        "  with torch.no_grad():\n",
        "    inputs = inputs.to(device)\n",
        "    outputs = model(inputs)\n",
        "    prediction = torch.exp(outputs)\n",
        "    prob, top = prediction.topk(topk, dim=1)\n",
        "    # pred = prediction.max(1, keepdim=True)[1].item()\n",
        "    # print(pred)\n",
        "  return prob, top"
      ],
      "execution_count": 0,
      "outputs": []
    },
    {
      "cell_type": "markdown",
      "metadata": {
        "id": "e7Iqb4KV6C7H",
        "colab_type": "text"
      },
      "source": [
        "## Upload image"
      ]
    },
    {
      "cell_type": "code",
      "metadata": {
        "id": "1fEXa6Cl9V4D",
        "colab_type": "code",
        "colab": {}
      },
      "source": [
        "transfomer = transform.Compose([transform.Resize([28,28]),transform.ToTensor()])"
      ],
      "execution_count": 0,
      "outputs": []
    },
    {
      "cell_type": "code",
      "metadata": {
        "id": "iZYqlAES6EnO",
        "colab_type": "code",
        "colab": {}
      },
      "source": [
        "def load_image(image_path):\n",
        "  # read and convert the image into grayscale\n",
        "  image = Image.open(image_path).convert('L')\n",
        "  # tansform the image, resize, crop, convert to tensor\n",
        "  image = transfomer(image).float()\n",
        "  # return tensor image with fake batch_size of 1\n",
        "  return image.unsqueeze_(0)"
      ],
      "execution_count": 0,
      "outputs": []
    },
    {
      "cell_type": "code",
      "metadata": {
        "id": "l8scevSp6Qvi",
        "colab_type": "code",
        "outputId": "5e003d5c-ea19-4b4e-88fc-378a3419e984",
        "colab": {
          "base_uri": "https://localhost:8080/",
          "height": 35
        }
      },
      "source": [
        "''' Set path to your input image\n",
        "    Note: Image should have black background'''\n",
        "\n",
        "image_path = '/content/1.jpg'\n",
        "image = load_image(image_path)\n",
        "image.shape"
      ],
      "execution_count": 22,
      "outputs": [
        {
          "output_type": "execute_result",
          "data": {
            "text/plain": [
              "torch.Size([1, 1, 28, 28])"
            ]
          },
          "metadata": {
            "tags": []
          },
          "execution_count": 22
        }
      ]
    },
    {
      "cell_type": "code",
      "metadata": {
        "id": "NcuKi0nb9vOb",
        "colab_type": "code",
        "outputId": "3b646dc7-3b89-44e8-edcd-4c992f14819a",
        "colab": {
          "base_uri": "https://localhost:8080/",
          "height": 54
        }
      },
      "source": [
        "prob, top = predict(load_image(image_path))\n",
        "print('Prediction: ', top.item())\n",
        "print('Accuracy:    {:.0f}%'.format(prob.item()*100))"
      ],
      "execution_count": 23,
      "outputs": [
        {
          "output_type": "stream",
          "text": [
            "Prediction:  1\n",
            "Accuracy:    86%\n"
          ],
          "name": "stdout"
        }
      ]
    }
  ]
}